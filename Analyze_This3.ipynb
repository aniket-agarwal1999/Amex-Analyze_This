{
 "cells": [
  {
   "cell_type": "markdown",
   "metadata": {},
   "source": [
    "<h1>So Basically in this I will be trying out various training algos</h1>"
   ]
  },
  {
   "cell_type": "code",
   "execution_count": 1,
   "metadata": {},
   "outputs": [],
   "source": [
    "import numpy as np\n",
    "import pandas as pd\n",
    "import matplotlib.pyplot as plt\n",
    "import seaborn as sns"
   ]
  },
  {
   "cell_type": "code",
   "execution_count": 2,
   "metadata": {},
   "outputs": [
    {
     "name": "stderr",
     "output_type": "stream",
     "text": [
      "/home/aniket/.conda/envs/fastai/lib/python3.6/site-packages/IPython/core/interactiveshell.py:2785: DtypeWarning: Columns (19) have mixed types. Specify dtype option on import or set low_memory=False.\n",
      "  interactivity=interactivity, compiler=compiler, result=result)\n"
     ]
    }
   ],
   "source": [
    "dataset = pd.read_csv('Training_dataset_Original.csv')\n",
    "leaderboard_dataset = pd.read_csv('Leaderboard_dataset.csv')"
   ]
  },
  {
   "cell_type": "code",
   "execution_count": 3,
   "metadata": {},
   "outputs": [],
   "source": [
    "dataset = dataset.iloc[:, 1:]  #Removing the ID column\n",
    "leaderboard_dataset = leaderboard_dataset.iloc[:, 1:]"
   ]
  },
  {
   "cell_type": "code",
   "execution_count": 4,
   "metadata": {},
   "outputs": [
    {
     "data": {
      "text/html": [
       "<div>\n",
       "<style scoped>\n",
       "    .dataframe tbody tr th:only-of-type {\n",
       "        vertical-align: middle;\n",
       "    }\n",
       "\n",
       "    .dataframe tbody tr th {\n",
       "        vertical-align: top;\n",
       "    }\n",
       "\n",
       "    .dataframe thead th {\n",
       "        text-align: right;\n",
       "    }\n",
       "</style>\n",
       "<table border=\"1\" class=\"dataframe\">\n",
       "  <thead>\n",
       "    <tr style=\"text-align: right;\">\n",
       "      <th></th>\n",
       "      <th>mvar1</th>\n",
       "      <th>mvar2</th>\n",
       "      <th>mvar3</th>\n",
       "      <th>mvar4</th>\n",
       "      <th>mvar5</th>\n",
       "      <th>mvar6</th>\n",
       "      <th>mvar7</th>\n",
       "      <th>mvar8</th>\n",
       "      <th>mvar9</th>\n",
       "      <th>mvar10</th>\n",
       "      <th>...</th>\n",
       "      <th>mvar39</th>\n",
       "      <th>mvar40</th>\n",
       "      <th>mvar41</th>\n",
       "      <th>mvar42</th>\n",
       "      <th>mvar43</th>\n",
       "      <th>mvar44</th>\n",
       "      <th>mvar45</th>\n",
       "      <th>mvar46</th>\n",
       "      <th>mvar47</th>\n",
       "      <th>default_ind</th>\n",
       "    </tr>\n",
       "  </thead>\n",
       "  <tbody>\n",
       "    <tr>\n",
       "      <th>0</th>\n",
       "      <td>1696</td>\n",
       "      <td>1.6541</td>\n",
       "      <td>0.000</td>\n",
       "      <td>0.0</td>\n",
       "      <td>0.0</td>\n",
       "      <td>0</td>\n",
       "      <td>6015</td>\n",
       "      <td>322</td>\n",
       "      <td>40369</td>\n",
       "      <td>18414</td>\n",
       "      <td>...</td>\n",
       "      <td>1</td>\n",
       "      <td>73.78</td>\n",
       "      <td>82.547</td>\n",
       "      <td>0.08696</td>\n",
       "      <td>10</td>\n",
       "      <td>0.63899</td>\n",
       "      <td>na</td>\n",
       "      <td>0</td>\n",
       "      <td>C</td>\n",
       "      <td>0</td>\n",
       "    </tr>\n",
       "    <tr>\n",
       "      <th>1</th>\n",
       "      <td>1846</td>\n",
       "      <td>0.8095</td>\n",
       "      <td>0.000</td>\n",
       "      <td>0.0</td>\n",
       "      <td>0.0</td>\n",
       "      <td>102</td>\n",
       "      <td>7532</td>\n",
       "      <td>3171</td>\n",
       "      <td>18234</td>\n",
       "      <td>13664</td>\n",
       "      <td>...</td>\n",
       "      <td>0</td>\n",
       "      <td>99.129</td>\n",
       "      <td>missing</td>\n",
       "      <td>0</td>\n",
       "      <td>13</td>\n",
       "      <td>0.63836</td>\n",
       "      <td>na</td>\n",
       "      <td>na</td>\n",
       "      <td>L</td>\n",
       "      <td>1</td>\n",
       "    </tr>\n",
       "    <tr>\n",
       "      <th>2</th>\n",
       "      <td>1745</td>\n",
       "      <td>0.4001</td>\n",
       "      <td>0.000</td>\n",
       "      <td>0.0</td>\n",
       "      <td>0.0</td>\n",
       "      <td>missing</td>\n",
       "      <td>2536</td>\n",
       "      <td>missing</td>\n",
       "      <td>missing</td>\n",
       "      <td>2536</td>\n",
       "      <td>...</td>\n",
       "      <td>0</td>\n",
       "      <td>missing</td>\n",
       "      <td>29.29</td>\n",
       "      <td>0</td>\n",
       "      <td>1</td>\n",
       "      <td>1.00000</td>\n",
       "      <td>na</td>\n",
       "      <td>0</td>\n",
       "      <td>C</td>\n",
       "      <td>1</td>\n",
       "    </tr>\n",
       "    <tr>\n",
       "      <th>3</th>\n",
       "      <td>1739</td>\n",
       "      <td>0.2193</td>\n",
       "      <td>0.000</td>\n",
       "      <td>0.0</td>\n",
       "      <td>0.0</td>\n",
       "      <td>1982</td>\n",
       "      <td>26440</td>\n",
       "      <td>4955</td>\n",
       "      <td>20316</td>\n",
       "      <td>37013</td>\n",
       "      <td>...</td>\n",
       "      <td>0</td>\n",
       "      <td>96.272</td>\n",
       "      <td>missing</td>\n",
       "      <td>0.15385</td>\n",
       "      <td>3</td>\n",
       "      <td>0.53241</td>\n",
       "      <td>0</td>\n",
       "      <td>0</td>\n",
       "      <td>L</td>\n",
       "      <td>0</td>\n",
       "    </tr>\n",
       "    <tr>\n",
       "      <th>4</th>\n",
       "      <td>1787</td>\n",
       "      <td>0.0118</td>\n",
       "      <td>0.225</td>\n",
       "      <td>0.0</td>\n",
       "      <td>0.0</td>\n",
       "      <td>5451</td>\n",
       "      <td>5494</td>\n",
       "      <td>5494</td>\n",
       "      <td>7987</td>\n",
       "      <td>4696</td>\n",
       "      <td>...</td>\n",
       "      <td>0</td>\n",
       "      <td>115.019</td>\n",
       "      <td>missing</td>\n",
       "      <td>0</td>\n",
       "      <td>1</td>\n",
       "      <td>0.92665</td>\n",
       "      <td>na</td>\n",
       "      <td>na</td>\n",
       "      <td>L</td>\n",
       "      <td>0</td>\n",
       "    </tr>\n",
       "  </tbody>\n",
       "</table>\n",
       "<p>5 rows × 48 columns</p>\n",
       "</div>"
      ],
      "text/plain": [
       "  mvar1   mvar2  mvar3  mvar4  mvar5    mvar6  mvar7    mvar8    mvar9 mvar10  \\\n",
       "0  1696  1.6541  0.000    0.0    0.0        0   6015      322    40369  18414   \n",
       "1  1846  0.8095  0.000    0.0    0.0      102   7532     3171    18234  13664   \n",
       "2  1745  0.4001  0.000    0.0    0.0  missing   2536  missing  missing   2536   \n",
       "3  1739  0.2193  0.000    0.0    0.0     1982  26440     4955    20316  37013   \n",
       "4  1787  0.0118  0.225    0.0    0.0     5451   5494     5494     7987   4696   \n",
       "\n",
       "      ...     mvar39   mvar40   mvar41   mvar42 mvar43   mvar44 mvar45 mvar46  \\\n",
       "0     ...          1    73.78   82.547  0.08696     10  0.63899     na      0   \n",
       "1     ...          0   99.129  missing        0     13  0.63836     na     na   \n",
       "2     ...          0  missing    29.29        0      1  1.00000     na      0   \n",
       "3     ...          0   96.272  missing  0.15385      3  0.53241      0      0   \n",
       "4     ...          0  115.019  missing        0      1  0.92665     na     na   \n",
       "\n",
       "  mvar47 default_ind  \n",
       "0      C           0  \n",
       "1      L           1  \n",
       "2      C           1  \n",
       "3      L           0  \n",
       "4      L           0  \n",
       "\n",
       "[5 rows x 48 columns]"
      ]
     },
     "execution_count": 4,
     "metadata": {},
     "output_type": "execute_result"
    }
   ],
   "source": [
    "dataset.head()"
   ]
  },
  {
   "cell_type": "code",
   "execution_count": 5,
   "metadata": {},
   "outputs": [],
   "source": [
    "from sklearn.preprocessing import LabelEncoder, OneHotEncoder\n",
    "labelencoder = LabelEncoder()\n",
    "dataset.iloc[:, -2] = labelencoder.fit_transform(dataset.iloc[:, -2])\n",
    "leaderboard_dataset.iloc[:, -1] = labelencoder.transform(leaderboard_dataset.iloc[:, -1])"
   ]
  },
  {
   "cell_type": "code",
   "execution_count": 6,
   "metadata": {},
   "outputs": [],
   "source": [
    "#I will remove the garbage values here\n",
    "for i in range(0, len(dataset.columns)):\n",
    "    dataset.iloc[:, i] = pd.to_numeric(dataset.iloc[:, i], errors='coerce')\n",
    "\n",
    "for i in range(0, len(leaderboard_dataset.columns)):\n",
    "    leaderboard_dataset.iloc[:, i] = pd.to_numeric(leaderboard_dataset.iloc[:, i], errors='coerce')"
   ]
  },
  {
   "cell_type": "code",
   "execution_count": 7,
   "metadata": {},
   "outputs": [
    {
     "data": {
      "text/html": [
       "<div>\n",
       "<style scoped>\n",
       "    .dataframe tbody tr th:only-of-type {\n",
       "        vertical-align: middle;\n",
       "    }\n",
       "\n",
       "    .dataframe tbody tr th {\n",
       "        vertical-align: top;\n",
       "    }\n",
       "\n",
       "    .dataframe thead th {\n",
       "        text-align: right;\n",
       "    }\n",
       "</style>\n",
       "<table border=\"1\" class=\"dataframe\">\n",
       "  <thead>\n",
       "    <tr style=\"text-align: right;\">\n",
       "      <th></th>\n",
       "      <th>mvar1</th>\n",
       "      <th>mvar2</th>\n",
       "      <th>mvar3</th>\n",
       "      <th>mvar4</th>\n",
       "      <th>mvar5</th>\n",
       "      <th>mvar6</th>\n",
       "      <th>mvar7</th>\n",
       "      <th>mvar8</th>\n",
       "      <th>mvar9</th>\n",
       "      <th>mvar10</th>\n",
       "      <th>...</th>\n",
       "      <th>mvar38</th>\n",
       "      <th>mvar39</th>\n",
       "      <th>mvar40</th>\n",
       "      <th>mvar41</th>\n",
       "      <th>mvar42</th>\n",
       "      <th>mvar43</th>\n",
       "      <th>mvar44</th>\n",
       "      <th>mvar45</th>\n",
       "      <th>mvar46</th>\n",
       "      <th>mvar47</th>\n",
       "    </tr>\n",
       "  </thead>\n",
       "  <tbody>\n",
       "    <tr>\n",
       "      <th>0</th>\n",
       "      <td>1753.0</td>\n",
       "      <td>0.5001</td>\n",
       "      <td>0.000</td>\n",
       "      <td>0.0</td>\n",
       "      <td>0.0</td>\n",
       "      <td>206.0</td>\n",
       "      <td>19179.0</td>\n",
       "      <td>206.0</td>\n",
       "      <td>14221.0</td>\n",
       "      <td>19438.0</td>\n",
       "      <td>...</td>\n",
       "      <td>1.0</td>\n",
       "      <td>0.0</td>\n",
       "      <td>NaN</td>\n",
       "      <td>20.551</td>\n",
       "      <td>0.42105</td>\n",
       "      <td>3.0</td>\n",
       "      <td>0.85661</td>\n",
       "      <td>NaN</td>\n",
       "      <td>0.0</td>\n",
       "      <td>1</td>\n",
       "    </tr>\n",
       "    <tr>\n",
       "      <th>1</th>\n",
       "      <td>1894.0</td>\n",
       "      <td>1.9701</td>\n",
       "      <td>0.000</td>\n",
       "      <td>0.0</td>\n",
       "      <td>0.0</td>\n",
       "      <td>297.0</td>\n",
       "      <td>19820.0</td>\n",
       "      <td>19820.0</td>\n",
       "      <td>176895.0</td>\n",
       "      <td>66346.0</td>\n",
       "      <td>...</td>\n",
       "      <td>3.0</td>\n",
       "      <td>0.0</td>\n",
       "      <td>NaN</td>\n",
       "      <td>63.047</td>\n",
       "      <td>0.00000</td>\n",
       "      <td>15.0</td>\n",
       "      <td>0.94391</td>\n",
       "      <td>0.0</td>\n",
       "      <td>0.0</td>\n",
       "      <td>0</td>\n",
       "    </tr>\n",
       "    <tr>\n",
       "      <th>2</th>\n",
       "      <td>1774.0</td>\n",
       "      <td>0.1718</td>\n",
       "      <td>0.000</td>\n",
       "      <td>0.0</td>\n",
       "      <td>0.0</td>\n",
       "      <td>197.0</td>\n",
       "      <td>2563.0</td>\n",
       "      <td>877.0</td>\n",
       "      <td>8869.0</td>\n",
       "      <td>3637.0</td>\n",
       "      <td>...</td>\n",
       "      <td>1.0</td>\n",
       "      <td>0.0</td>\n",
       "      <td>NaN</td>\n",
       "      <td>83.797</td>\n",
       "      <td>0.33333</td>\n",
       "      <td>3.0</td>\n",
       "      <td>0.76467</td>\n",
       "      <td>0.0</td>\n",
       "      <td>0.0</td>\n",
       "      <td>0</td>\n",
       "    </tr>\n",
       "    <tr>\n",
       "      <th>3</th>\n",
       "      <td>1586.0</td>\n",
       "      <td>0.1123</td>\n",
       "      <td>5.299</td>\n",
       "      <td>0.0</td>\n",
       "      <td>0.0</td>\n",
       "      <td>NaN</td>\n",
       "      <td>NaN</td>\n",
       "      <td>NaN</td>\n",
       "      <td>NaN</td>\n",
       "      <td>0.0</td>\n",
       "      <td>...</td>\n",
       "      <td>1.0</td>\n",
       "      <td>NaN</td>\n",
       "      <td>NaN</td>\n",
       "      <td>NaN</td>\n",
       "      <td>1.50000</td>\n",
       "      <td>0.0</td>\n",
       "      <td>NaN</td>\n",
       "      <td>NaN</td>\n",
       "      <td>NaN</td>\n",
       "      <td>0</td>\n",
       "    </tr>\n",
       "    <tr>\n",
       "      <th>4</th>\n",
       "      <td>1832.0</td>\n",
       "      <td>1.4442</td>\n",
       "      <td>0.000</td>\n",
       "      <td>0.0</td>\n",
       "      <td>0.0</td>\n",
       "      <td>179.0</td>\n",
       "      <td>7577.0</td>\n",
       "      <td>179.0</td>\n",
       "      <td>21059.0</td>\n",
       "      <td>20306.0</td>\n",
       "      <td>...</td>\n",
       "      <td>3.0</td>\n",
       "      <td>0.0</td>\n",
       "      <td>96.052</td>\n",
       "      <td>66.665</td>\n",
       "      <td>0.00000</td>\n",
       "      <td>23.0</td>\n",
       "      <td>0.79190</td>\n",
       "      <td>0.0</td>\n",
       "      <td>0.0</td>\n",
       "      <td>1</td>\n",
       "    </tr>\n",
       "  </tbody>\n",
       "</table>\n",
       "<p>5 rows × 47 columns</p>\n",
       "</div>"
      ],
      "text/plain": [
       "    mvar1   mvar2  mvar3  mvar4  mvar5  mvar6    mvar7    mvar8     mvar9  \\\n",
       "0  1753.0  0.5001  0.000    0.0    0.0  206.0  19179.0    206.0   14221.0   \n",
       "1  1894.0  1.9701  0.000    0.0    0.0  297.0  19820.0  19820.0  176895.0   \n",
       "2  1774.0  0.1718  0.000    0.0    0.0  197.0   2563.0    877.0    8869.0   \n",
       "3  1586.0  0.1123  5.299    0.0    0.0    NaN      NaN      NaN       NaN   \n",
       "4  1832.0  1.4442  0.000    0.0    0.0  179.0   7577.0    179.0   21059.0   \n",
       "\n",
       "    mvar10   ...    mvar38  mvar39  mvar40  mvar41   mvar42  mvar43   mvar44  \\\n",
       "0  19438.0   ...       1.0     0.0     NaN  20.551  0.42105     3.0  0.85661   \n",
       "1  66346.0   ...       3.0     0.0     NaN  63.047  0.00000    15.0  0.94391   \n",
       "2   3637.0   ...       1.0     0.0     NaN  83.797  0.33333     3.0  0.76467   \n",
       "3      0.0   ...       1.0     NaN     NaN     NaN  1.50000     0.0      NaN   \n",
       "4  20306.0   ...       3.0     0.0  96.052  66.665  0.00000    23.0  0.79190   \n",
       "\n",
       "   mvar45  mvar46  mvar47  \n",
       "0     NaN     0.0       1  \n",
       "1     0.0     0.0       0  \n",
       "2     0.0     0.0       0  \n",
       "3     NaN     NaN       0  \n",
       "4     0.0     0.0       1  \n",
       "\n",
       "[5 rows x 47 columns]"
      ]
     },
     "execution_count": 7,
     "metadata": {},
     "output_type": "execute_result"
    }
   ],
   "source": [
    "leaderboard_dataset.head()"
   ]
  },
  {
   "cell_type": "code",
   "execution_count": 8,
   "metadata": {},
   "outputs": [],
   "source": [
    "X = dataset.iloc[:, :-1].values\n",
    "y = dataset.iloc[:, -1].values\n",
    "\n",
    "X_leaderboard = leaderboard_dataset.values"
   ]
  },
  {
   "cell_type": "code",
   "execution_count": 9,
   "metadata": {},
   "outputs": [],
   "source": [
    "from sklearn.preprocessing import Imputer\n",
    "imputer = Imputer(missing_values='NaN', strategy='median', axis = 0)\n",
    "imputer = imputer.fit(X)\n",
    "X = imputer.transform(X)\n",
    "\n",
    "imputer2 = Imputer(missing_values='NaN', strategy='median', axis = 0)\n",
    "imputer2 = imputer2.fit(X_leaderboard)\n",
    "X_leaderboard = imputer2.transform(X_leaderboard)"
   ]
  },
  {
   "cell_type": "code",
   "execution_count": 10,
   "metadata": {},
   "outputs": [],
   "source": [
    "from sklearn.preprocessing import StandardScaler\n",
    "sc = StandardScaler()\n",
    "X = sc.fit_transform(X)\n",
    "\n",
    "sc2 = StandardScaler()\n",
    "X_leaderboard = sc2.fit_transform(X_leaderboard)"
   ]
  },
  {
   "cell_type": "code",
   "execution_count": 11,
   "metadata": {},
   "outputs": [
    {
     "name": "stderr",
     "output_type": "stream",
     "text": [
      "/home/aniket/.conda/envs/fastai/lib/python3.6/site-packages/sklearn/cross_validation.py:41: DeprecationWarning: This module was deprecated in version 0.18 in favor of the model_selection module into which all the refactored classes and functions are moved. Also note that the interface of the new CV iterators are different from that of this module. This module will be removed in 0.20.\n",
      "  \"This module will be removed in 0.20.\", DeprecationWarning)\n"
     ]
    }
   ],
   "source": [
    "from sklearn.cross_validation import train_test_split\n",
    "X_train, X_test, y_train, y_test = train_test_split(X, y, test_size = 0.25, random_state = 0)"
   ]
  },
  {
   "cell_type": "code",
   "execution_count": 12,
   "metadata": {},
   "outputs": [
    {
     "data": {
      "text/html": [
       "<div>\n",
       "<style scoped>\n",
       "    .dataframe tbody tr th:only-of-type {\n",
       "        vertical-align: middle;\n",
       "    }\n",
       "\n",
       "    .dataframe tbody tr th {\n",
       "        vertical-align: top;\n",
       "    }\n",
       "\n",
       "    .dataframe thead th {\n",
       "        text-align: right;\n",
       "    }\n",
       "</style>\n",
       "<table border=\"1\" class=\"dataframe\">\n",
       "  <thead>\n",
       "    <tr style=\"text-align: right;\">\n",
       "      <th></th>\n",
       "      <th>0</th>\n",
       "      <th>1</th>\n",
       "      <th>2</th>\n",
       "      <th>3</th>\n",
       "      <th>4</th>\n",
       "      <th>5</th>\n",
       "      <th>6</th>\n",
       "      <th>7</th>\n",
       "      <th>8</th>\n",
       "      <th>9</th>\n",
       "      <th>...</th>\n",
       "      <th>37</th>\n",
       "      <th>38</th>\n",
       "      <th>39</th>\n",
       "      <th>40</th>\n",
       "      <th>41</th>\n",
       "      <th>42</th>\n",
       "      <th>43</th>\n",
       "      <th>44</th>\n",
       "      <th>45</th>\n",
       "      <th>46</th>\n",
       "    </tr>\n",
       "  </thead>\n",
       "  <tbody>\n",
       "    <tr>\n",
       "      <th>0</th>\n",
       "      <td>-0.290048</td>\n",
       "      <td>0.311423</td>\n",
       "      <td>-0.486601</td>\n",
       "      <td>-0.263285</td>\n",
       "      <td>-0.186988</td>\n",
       "      <td>-0.150867</td>\n",
       "      <td>-0.323999</td>\n",
       "      <td>-0.410544</td>\n",
       "      <td>-0.280746</td>\n",
       "      <td>-0.422674</td>\n",
       "      <td>...</td>\n",
       "      <td>-1.082226</td>\n",
       "      <td>-0.207894</td>\n",
       "      <td>0.023551</td>\n",
       "      <td>0.152566</td>\n",
       "      <td>0.900481</td>\n",
       "      <td>-0.881582</td>\n",
       "      <td>0.490171</td>\n",
       "      <td>-0.160451</td>\n",
       "      <td>-0.232353</td>\n",
       "      <td>-0.737028</td>\n",
       "    </tr>\n",
       "    <tr>\n",
       "      <th>1</th>\n",
       "      <td>-1.188651</td>\n",
       "      <td>-0.491874</td>\n",
       "      <td>-0.207604</td>\n",
       "      <td>-0.263285</td>\n",
       "      <td>-0.186988</td>\n",
       "      <td>-0.387570</td>\n",
       "      <td>-0.368996</td>\n",
       "      <td>-0.634504</td>\n",
       "      <td>-0.620256</td>\n",
       "      <td>-0.452874</td>\n",
       "      <td>...</td>\n",
       "      <td>-0.576318</td>\n",
       "      <td>-0.207894</td>\n",
       "      <td>0.023551</td>\n",
       "      <td>0.152566</td>\n",
       "      <td>0.003765</td>\n",
       "      <td>-0.881582</td>\n",
       "      <td>1.247076</td>\n",
       "      <td>-0.160451</td>\n",
       "      <td>-0.232353</td>\n",
       "      <td>-0.737028</td>\n",
       "    </tr>\n",
       "    <tr>\n",
       "      <th>2</th>\n",
       "      <td>1.821129</td>\n",
       "      <td>-0.658783</td>\n",
       "      <td>-0.486601</td>\n",
       "      <td>-0.263285</td>\n",
       "      <td>-0.186988</td>\n",
       "      <td>3.222066</td>\n",
       "      <td>0.043052</td>\n",
       "      <td>1.416339</td>\n",
       "      <td>7.359761</td>\n",
       "      <td>0.294825</td>\n",
       "      <td>...</td>\n",
       "      <td>0.182544</td>\n",
       "      <td>-0.207894</td>\n",
       "      <td>-6.729958</td>\n",
       "      <td>0.152566</td>\n",
       "      <td>-0.892924</td>\n",
       "      <td>1.506709</td>\n",
       "      <td>1.154157</td>\n",
       "      <td>-0.160451</td>\n",
       "      <td>-0.232353</td>\n",
       "      <td>-0.737028</td>\n",
       "    </tr>\n",
       "    <tr>\n",
       "      <th>3</th>\n",
       "      <td>0.327065</td>\n",
       "      <td>-0.618813</td>\n",
       "      <td>-0.486601</td>\n",
       "      <td>-0.263285</td>\n",
       "      <td>-0.186988</td>\n",
       "      <td>0.165345</td>\n",
       "      <td>-0.305448</td>\n",
       "      <td>-0.433571</td>\n",
       "      <td>-0.470355</td>\n",
       "      <td>-0.324490</td>\n",
       "      <td>...</td>\n",
       "      <td>-0.323364</td>\n",
       "      <td>-0.207894</td>\n",
       "      <td>0.023551</td>\n",
       "      <td>0.152566</td>\n",
       "      <td>-0.444566</td>\n",
       "      <td>-0.085485</td>\n",
       "      <td>1.228389</td>\n",
       "      <td>-0.160451</td>\n",
       "      <td>-0.232353</td>\n",
       "      <td>1.356801</td>\n",
       "    </tr>\n",
       "    <tr>\n",
       "      <th>4</th>\n",
       "      <td>0.099708</td>\n",
       "      <td>-0.669074</td>\n",
       "      <td>-0.336907</td>\n",
       "      <td>0.209075</td>\n",
       "      <td>-0.186988</td>\n",
       "      <td>0.393518</td>\n",
       "      <td>-0.179532</td>\n",
       "      <td>-0.350652</td>\n",
       "      <td>-0.422692</td>\n",
       "      <td>-0.267643</td>\n",
       "      <td>...</td>\n",
       "      <td>-0.576318</td>\n",
       "      <td>-0.207894</td>\n",
       "      <td>1.688152</td>\n",
       "      <td>-2.254820</td>\n",
       "      <td>-0.764822</td>\n",
       "      <td>-0.244704</td>\n",
       "      <td>-0.660173</td>\n",
       "      <td>-0.160451</td>\n",
       "      <td>-0.232353</td>\n",
       "      <td>1.356801</td>\n",
       "    </tr>\n",
       "  </tbody>\n",
       "</table>\n",
       "<p>5 rows × 47 columns</p>\n",
       "</div>"
      ],
      "text/plain": [
       "         0         1         2         3         4         5         6   \\\n",
       "0 -0.290048  0.311423 -0.486601 -0.263285 -0.186988 -0.150867 -0.323999   \n",
       "1 -1.188651 -0.491874 -0.207604 -0.263285 -0.186988 -0.387570 -0.368996   \n",
       "2  1.821129 -0.658783 -0.486601 -0.263285 -0.186988  3.222066  0.043052   \n",
       "3  0.327065 -0.618813 -0.486601 -0.263285 -0.186988  0.165345 -0.305448   \n",
       "4  0.099708 -0.669074 -0.336907  0.209075 -0.186988  0.393518 -0.179532   \n",
       "\n",
       "         7         8         9     ...           37        38        39  \\\n",
       "0 -0.410544 -0.280746 -0.422674    ...    -1.082226 -0.207894  0.023551   \n",
       "1 -0.634504 -0.620256 -0.452874    ...    -0.576318 -0.207894  0.023551   \n",
       "2  1.416339  7.359761  0.294825    ...     0.182544 -0.207894 -6.729958   \n",
       "3 -0.433571 -0.470355 -0.324490    ...    -0.323364 -0.207894  0.023551   \n",
       "4 -0.350652 -0.422692 -0.267643    ...    -0.576318 -0.207894  1.688152   \n",
       "\n",
       "         40        41        42        43        44        45        46  \n",
       "0  0.152566  0.900481 -0.881582  0.490171 -0.160451 -0.232353 -0.737028  \n",
       "1  0.152566  0.003765 -0.881582  1.247076 -0.160451 -0.232353 -0.737028  \n",
       "2  0.152566 -0.892924  1.506709  1.154157 -0.160451 -0.232353 -0.737028  \n",
       "3  0.152566 -0.444566 -0.085485  1.228389 -0.160451 -0.232353  1.356801  \n",
       "4 -2.254820 -0.764822 -0.244704 -0.660173 -0.160451 -0.232353  1.356801  \n",
       "\n",
       "[5 rows x 47 columns]"
      ]
     },
     "execution_count": 12,
     "metadata": {},
     "output_type": "execute_result"
    }
   ],
   "source": [
    "pd.DataFrame(X_train).head()"
   ]
  },
  {
   "cell_type": "markdown",
   "metadata": {},
   "source": [
    "<h2> Just in case I want to some wrangling here </h2>"
   ]
  },
  {
   "cell_type": "code",
   "execution_count": null,
   "metadata": {},
   "outputs": [],
   "source": []
  },
  {
   "cell_type": "code",
   "execution_count": null,
   "metadata": {},
   "outputs": [],
   "source": []
  },
  {
   "cell_type": "markdown",
   "metadata": {},
   "source": [
    "<h3> Removal of the various variables and also LDA </h3>"
   ]
  },
  {
   "cell_type": "code",
   "execution_count": 13,
   "metadata": {},
   "outputs": [],
   "source": [
    "X_train = X_train[:, [0,1,2,3,4,5,6,7,8,9,10,11,12,14,15,16,17,18,19,20,21,22,24,25,26,27,28,29,30,31,32,33,34,35,36,37,38,39,40,41,42,43,44,45,46]]\n",
    "X_leaderboard = X_leaderboard[:, [0,1,2,3,4,5,6,7,8,9,10,11,12,14,15,16,17,18,19,20,21,22,24,25,26,27,28,29,30,31,32,33,34,35,36,37,38,39,40,41,42,43,44,45,46]]"
   ]
  },
  {
   "cell_type": "code",
   "execution_count": 14,
   "metadata": {},
   "outputs": [],
   "source": [
    "X_test = X_test[:, [0,1,2,3,4,5,6,7,8,9,10,11,12,14,15,16,17,18,19,20,21,22,24,25,26,27,28,29,30,31,32,33,34,35,36,37,38,39,40,41,42,43,44,45,46]]"
   ]
  },
  {
   "cell_type": "code",
   "execution_count": 15,
   "metadata": {},
   "outputs": [],
   "source": [
    "from sklearn import decomposition\n",
    "svd = decomposition.TruncatedSVD(n_components=1, algorithm='arpack')\n",
    "svd.fit(X_train[:, [6,9]])\n",
    "\n",
    "svd_lBoard = decomposition.TruncatedSVD(n_components=1, algorithm='arpack')\n",
    "svd_lBoard.fit(X_leaderboard[:, [6,9]])\n",
    "\n",
    "X_train[:, [6,9]] = svd.transform(X_train[:, [6,9]])\n",
    "X_test[:, [6,9]] = svd.transform(X_test[:, [6,9]])\n",
    "X_leaderboard[:, [6,9]] = svd_lBoard.transform(X_leaderboard[:, [6,9]])\n",
    "\n",
    "X_train = X_train[:, [0,1,2,3,4,5,6,7,8,10,11,12,13,14,15,16,17,18,19,20,21,22,23,24,25,26,27,28,29,30,31,32,33,34,35,36,37,38,39,40,41,42,43,44]]\n",
    "X_test = X_test[:, [0,1,2,3,4,5,6,7,8,10,11,12,13,14,15,16,17,18,19,20,21,22,23,24,25,26,27,28,29,30,31,32,33,34,35,36,37,38,39,40,41,42,43,44]]\n",
    "X_leaderboard = X_leaderboard[:, [0,1,2,3,4,5,6,7,8,10,11,12,13,14,15,16,17,18,19,20,21,22,23,24,25,26,27,28,29,30,31,32,33,34,35,36,37,38,39,40,41,42,43,44]]"
   ]
  },
  {
   "cell_type": "code",
   "execution_count": 16,
   "metadata": {},
   "outputs": [],
   "source": [
    "svd2 = decomposition.TruncatedSVD(n_components=1, algorithm='arpack')\n",
    "svd2.fit(X_train[:, [13, 14, 15]])\n",
    "\n",
    "svd2_lBoard = decomposition.TruncatedSVD(n_components=1, algorithm='arpack')\n",
    "svd2_lBoard.fit(X_leaderboard[:, [13, 14, 15]])\n",
    "\n",
    "X_train[:, [13, 14, 15]] = svd2.transform(X_train[:, [13, 14, 15]])\n",
    "X_test[:, [13, 14, 15]] = svd2.transform(X_test[:, [13, 14, 15]])\n",
    "X_leaderboard[:, [13, 14, 15]] = svd2_lBoard.transform(X_leaderboard[:, [13, 14, 15]])\n",
    "\n",
    "X_train = X_train[:, [0,1,2,3,4,5,6,7,8,9,10,11,12,13,16,17,18,19,20,21,22,23,24,25,26,27,28,29,30,31,32,33,34,35,36,37,38,39,40,41,42,43]]\n",
    "X_test = X_test[:, [0,1,2,3,4,5,6,7,8,9,10,11,12,13,16,17,18,19,20,21,22,23,24,25,26,27,28,29,30,31,32,33,34,35,36,37,38,39,40,41,42,43]]\n",
    "X_leaderboard = X_leaderboard[:, [0,1,2,3,4,5,6,7,8,9,10,11,12,13,16,17,18,19,20,21,22,23,24,25,26,27,28,29,30,31,32,33,34,35,36,37,38,39,40,41,42,43]]"
   ]
  },
  {
   "cell_type": "code",
   "execution_count": 17,
   "metadata": {},
   "outputs": [],
   "source": [
    "svd3 = decomposition.TruncatedSVD(n_components=1, algorithm='arpack')\n",
    "svd3.fit(X_train[:, [14, 15]])\n",
    "\n",
    "svd3_lBoard = decomposition.TruncatedSVD(n_components=1, algorithm='arpack')\n",
    "svd3_lBoard.fit(X_leaderboard[:, [14, 15]])\n",
    "\n",
    "X_train[:, [14, 15]] = svd3.transform(X_train[:, [14, 15]])\n",
    "X_test[:, [14, 15]] = svd3.transform(X_test[:, [14, 15]])\n",
    "X_leaderboard[:, [14, 15]] = svd3_lBoard.transform(X_leaderboard[:, [14, 15]])\n",
    "\n",
    "X_train = X_train[:, [0,1,2,3,4,5,6,7,8,9,10,11,12,13,14,16,17,18,19,20,21,22,23,24,25,26,27,28,29,30,31,32,33,34,35,36,37,38,39,40,41]]\n",
    "X_test = X_test[:, [0,1,2,3,4,5,6,7,8,9,10,11,12,13,14,16,17,18,19,20,21,22,23,24,25,26,27,28,29,30,31,32,33,34,35,36,37,38,39,40,41]]\n",
    "X_leaderboard = X_leaderboard[:, [0,1,2,3,4,5,6,7,8,9,10,11,12,13,14,16,17,18,19,20,21,22,23,24,25,26,27,28,29,30,31,32,33,34,35,36,37,38,39,40,41]]"
   ]
  },
  {
   "cell_type": "code",
   "execution_count": 18,
   "metadata": {},
   "outputs": [],
   "source": [
    "svd4 = decomposition.TruncatedSVD(n_components=1, algorithm='arpack')\n",
    "svd4.fit(X_train[:, [16, 17]])\n",
    "\n",
    "svd4_lBoard = decomposition.TruncatedSVD(n_components=1, algorithm='arpack')\n",
    "svd4_lBoard.fit(X_leaderboard[:, [16, 17]])\n",
    "\n",
    "X_train[:, [16, 17]] = svd4.transform(X_train[:, [16, 17]])\n",
    "X_test[:, [16, 17]] = svd4.transform(X_test[:, [16, 17]])\n",
    "X_leaderboard[:, [16, 17]] = svd4_lBoard.transform(X_leaderboard[:, [16, 17]])\n",
    "\n",
    "X_train = X_train[:, [0,1,2,3,4,5,6,7,8,9,10,11,12,13,14,15,16,18,19,20,21,22,23,24,25,26,27,28,29,30,31,32,33,34,35,36,37,38,39,40]]\n",
    "X_test = X_test[:, [0,1,2,3,4,5,6,7,8,9,10,11,12,13,14,15,16,18,19,20,21,22,23,24,25,26,27,28,29,30,31,32,33,34,35,36,37,38,39,40]]\n",
    "X_leaderboard = X_leaderboard[:, [0,1,2,3,4,5,6,7,8,9,10,11,12,13,14,15,16,18,19,20,21,22,23,24,25,26,27,28,29,30,31,32,33,34,35,36,37,38,39,40]]"
   ]
  },
  {
   "cell_type": "code",
   "execution_count": 19,
   "metadata": {},
   "outputs": [],
   "source": [
    "svd5 = decomposition.TruncatedSVD(n_components=1, algorithm='arpack')\n",
    "svd5.fit(X_train[:, [17, 18, 19]])\n",
    "\n",
    "svd5_lBoard = decomposition.TruncatedSVD(n_components=1, algorithm='arpack')\n",
    "svd5_lBoard.fit(X_leaderboard[:, [17, 18, 19]])\n",
    "\n",
    "X_train[:, [17, 18, 19]] = svd5.transform(X_train[:, [17, 18, 19]])\n",
    "X_test[:, [17, 18, 19]] = svd5.transform(X_test[:, [17, 18, 19]])\n",
    "X_leaderboard[:, [17, 18, 19]] = svd5_lBoard.transform(X_leaderboard[:, [17, 18, 19]])\n",
    "\n",
    "X_train = X_train[:, [0,1,2,3,4,5,6,7,8,9,10,11,12,13,14,15,16,17,20,21,22,23,24,25,26,27,28,29,30,31,32,33,34,35,36,37,38,39]]\n",
    "X_test = X_test[:, [0,1,2,3,4,5,6,7,8,9,10,11,12,13,14,15,16,17,20,21,22,23,24,25,26,27,28,29,30,31,32,33,34,35,36,37,38,39]]\n",
    "X_leaderboard = X_leaderboard[:, [0,1,2,3,4,5,6,7,8,9,10,11,12,13,14,15,16,17,20,21,22,23,24,25,26,27,28,29,30,31,32,33,34,35,36,37,38,39]]"
   ]
  },
  {
   "cell_type": "code",
   "execution_count": 20,
   "metadata": {},
   "outputs": [
    {
     "data": {
      "text/plain": [
       "(60000, 38)"
      ]
     },
     "execution_count": 20,
     "metadata": {},
     "output_type": "execute_result"
    }
   ],
   "source": [
    "X_train.shape"
   ]
  },
  {
   "cell_type": "markdown",
   "metadata": {},
   "source": [
    "<h3> Okay, so here training using ANN having 2 hidden layers </h3>"
   ]
  },
  {
   "cell_type": "code",
   "execution_count": 21,
   "metadata": {},
   "outputs": [
    {
     "name": "stderr",
     "output_type": "stream",
     "text": [
      "Using TensorFlow backend.\n"
     ]
    }
   ],
   "source": [
    "import keras\n",
    "from keras.models import Sequential\n",
    "from keras.layers import Dense\n",
    "from keras.optimizers import SGD\n",
    "from keras.layers import Dropout\n",
    "from keras.constraints import maxnorm"
   ]
  },
  {
   "cell_type": "code",
   "execution_count": 22,
   "metadata": {},
   "outputs": [],
   "source": [
    "classifier = Sequential()"
   ]
  },
  {
   "cell_type": "code",
   "execution_count": 30,
   "metadata": {},
   "outputs": [],
   "source": [
    "#classifier.add(Dropout(rate=0.25, input_shape=(38,)))"
   ]
  },
  {
   "cell_type": "code",
   "execution_count": 23,
   "metadata": {
    "scrolled": false
   },
   "outputs": [
    {
     "name": "stderr",
     "output_type": "stream",
     "text": [
      "/home/aniket/.conda/envs/fastai/lib/python3.6/site-packages/ipykernel_launcher.py:1: UserWarning: Update your `Dense` call to the Keras 2 API: `Dense(activation=\"relu\", input_dim=38, units=18, kernel_initializer=\"uniform\")`\n",
      "  \"\"\"Entry point for launching an IPython kernel.\n"
     ]
    }
   ],
   "source": [
    "classifier.add(Dense(output_dim = 18, init = 'uniform', activation='relu', input_dim=38))"
   ]
  },
  {
   "cell_type": "code",
   "execution_count": 24,
   "metadata": {},
   "outputs": [],
   "source": [
    "#classifier.add(Dropout(rate=0.2, input_shape=(23,)))"
   ]
  },
  {
   "cell_type": "code",
   "execution_count": 24,
   "metadata": {},
   "outputs": [
    {
     "name": "stderr",
     "output_type": "stream",
     "text": [
      "/home/aniket/.conda/envs/fastai/lib/python3.6/site-packages/ipykernel_launcher.py:1: UserWarning: Update your `Dense` call to the Keras 2 API: `Dense(activation=\"relu\", units=6, kernel_initializer=\"uniform\")`\n",
      "  \"\"\"Entry point for launching an IPython kernel.\n"
     ]
    }
   ],
   "source": [
    "classifier.add(Dense(output_dim = 6, init = 'uniform', activation='relu'))"
   ]
  },
  {
   "cell_type": "code",
   "execution_count": 25,
   "metadata": {},
   "outputs": [
    {
     "name": "stderr",
     "output_type": "stream",
     "text": [
      "/home/aniket/.conda/envs/fastai/lib/python3.6/site-packages/ipykernel_launcher.py:1: UserWarning: Update your `Dense` call to the Keras 2 API: `Dense(activation=\"relu\", units=1, kernel_initializer=\"uniform\")`\n",
      "  \"\"\"Entry point for launching an IPython kernel.\n"
     ]
    }
   ],
   "source": [
    "classifier.add(Dense(output_dim = 1, init = 'uniform', activation='relu'))"
   ]
  },
  {
   "cell_type": "code",
   "execution_count": 26,
   "metadata": {},
   "outputs": [
    {
     "name": "stderr",
     "output_type": "stream",
     "text": [
      "/home/aniket/.conda/envs/fastai/lib/python3.6/site-packages/ipykernel_launcher.py:1: UserWarning: Update your `Dense` call to the Keras 2 API: `Dense(activation=\"sigmoid\", units=1, kernel_initializer=\"uniform\")`\n",
      "  \"\"\"Entry point for launching an IPython kernel.\n"
     ]
    }
   ],
   "source": [
    "classifier.add(Dense(output_dim = 1, init = 'uniform', activation='sigmoid'))"
   ]
  },
  {
   "cell_type": "code",
   "execution_count": 27,
   "metadata": {},
   "outputs": [],
   "source": [
    "classifier.compile(optimizer='adam', loss = 'binary_crossentropy', metrics=['accuracy'])"
   ]
  },
  {
   "cell_type": "code",
   "execution_count": 28,
   "metadata": {},
   "outputs": [
    {
     "name": "stderr",
     "output_type": "stream",
     "text": [
      "/home/aniket/.conda/envs/fastai/lib/python3.6/site-packages/ipykernel_launcher.py:1: UserWarning: The `nb_epoch` argument in `fit` has been renamed `epochs`.\n",
      "  \"\"\"Entry point for launching an IPython kernel.\n"
     ]
    },
    {
     "name": "stdout",
     "output_type": "stream",
     "text": [
      "Epoch 1/50\n",
      "60000/60000 [==============================] - 4s 65us/step - loss: 0.4550 - acc: 0.7632\n",
      "Epoch 2/50\n",
      "60000/60000 [==============================] - 2s 33us/step - loss: 0.4275 - acc: 0.7988\n",
      "Epoch 3/50\n",
      "60000/60000 [==============================] - 2s 32us/step - loss: 0.4229 - acc: 0.8003\n",
      "Epoch 4/50\n",
      "60000/60000 [==============================] - 2s 34us/step - loss: 0.4204 - acc: 0.8012\n",
      "Epoch 5/50\n",
      "60000/60000 [==============================] - 2s 37us/step - loss: 0.4190 - acc: 0.8019\n",
      "Epoch 6/50\n",
      "60000/60000 [==============================] - 2s 30us/step - loss: 0.4180 - acc: 0.8032\n",
      "Epoch 7/50\n",
      "60000/60000 [==============================] - 2s 31us/step - loss: 0.4172 - acc: 0.8036\n",
      "Epoch 8/50\n",
      "60000/60000 [==============================] - 2s 35us/step - loss: 0.4165 - acc: 0.8039\n",
      "Epoch 9/50\n",
      "60000/60000 [==============================] - 2s 34us/step - loss: 0.4159 - acc: 0.8047\n",
      "Epoch 10/50\n",
      "60000/60000 [==============================] - 2s 32us/step - loss: 0.4155 - acc: 0.8040\n",
      "Epoch 11/50\n",
      "60000/60000 [==============================] - 2s 31us/step - loss: 0.4151 - acc: 0.8051\n",
      "Epoch 12/50\n",
      "60000/60000 [==============================] - 2s 31us/step - loss: 0.4147 - acc: 0.8045\n",
      "Epoch 13/50\n",
      "60000/60000 [==============================] - 2s 33us/step - loss: 0.4141 - acc: 0.8059\n",
      "Epoch 14/50\n",
      "60000/60000 [==============================] - 2s 32us/step - loss: 0.4138 - acc: 0.8057\n",
      "Epoch 15/50\n",
      "60000/60000 [==============================] - 2s 35us/step - loss: 0.4133 - acc: 0.8059\n",
      "Epoch 16/50\n",
      "60000/60000 [==============================] - 2s 31us/step - loss: 0.4131 - acc: 0.8064\n",
      "Epoch 17/50\n",
      "60000/60000 [==============================] - 2s 37us/step - loss: 0.4126 - acc: 0.8067\n",
      "Epoch 18/50\n",
      "60000/60000 [==============================] - 2s 35us/step - loss: 0.4123 - acc: 0.8067\n",
      "Epoch 19/50\n",
      "60000/60000 [==============================] - 2s 33us/step - loss: 0.4122 - acc: 0.8068\n",
      "Epoch 20/50\n",
      "60000/60000 [==============================] - 2s 32us/step - loss: 0.4116 - acc: 0.8076\n",
      "Epoch 21/50\n",
      "60000/60000 [==============================] - 2s 33us/step - loss: 0.4114 - acc: 0.8072\n",
      "Epoch 22/50\n",
      "60000/60000 [==============================] - 2s 32us/step - loss: 0.4112 - acc: 0.8072\n",
      "Epoch 23/50\n",
      "60000/60000 [==============================] - 2s 33us/step - loss: 0.4111 - acc: 0.8084\n",
      "Epoch 24/50\n",
      "60000/60000 [==============================] - 2s 32us/step - loss: 0.4108 - acc: 0.8072\n",
      "Epoch 25/50\n",
      "60000/60000 [==============================] - 2s 32us/step - loss: 0.4107 - acc: 0.8077\n",
      "Epoch 26/50\n",
      "60000/60000 [==============================] - 2s 32us/step - loss: 0.4105 - acc: 0.8083\n",
      "Epoch 27/50\n",
      "60000/60000 [==============================] - 2s 34us/step - loss: 0.4103 - acc: 0.8080\n",
      "Epoch 28/50\n",
      "60000/60000 [==============================] - 2s 37us/step - loss: 0.4098 - acc: 0.8087\n",
      "Epoch 29/50\n",
      "60000/60000 [==============================] - 2s 37us/step - loss: 0.4099 - acc: 0.8089\n",
      "Epoch 30/50\n",
      "60000/60000 [==============================] - 2s 36us/step - loss: 0.4094 - acc: 0.8088\n",
      "Epoch 31/50\n",
      "60000/60000 [==============================] - 2s 36us/step - loss: 0.4096 - acc: 0.8086\n",
      "Epoch 32/50\n",
      "60000/60000 [==============================] - 2s 33us/step - loss: 0.4093 - acc: 0.8088\n",
      "Epoch 33/50\n",
      "60000/60000 [==============================] - 2s 32us/step - loss: 0.4092 - acc: 0.8092\n",
      "Epoch 34/50\n",
      "60000/60000 [==============================] - 2s 34us/step - loss: 0.4090 - acc: 0.8091\n",
      "Epoch 35/50\n",
      "60000/60000 [==============================] - 2s 32us/step - loss: 0.4088 - acc: 0.8083\n",
      "Epoch 36/50\n",
      "60000/60000 [==============================] - 2s 36us/step - loss: 0.4088 - acc: 0.8094\n",
      "Epoch 37/50\n",
      "60000/60000 [==============================] - 2s 35us/step - loss: 0.4088 - acc: 0.8083\n",
      "Epoch 38/50\n",
      "60000/60000 [==============================] - 2s 35us/step - loss: 0.4085 - acc: 0.8092\n",
      "Epoch 39/50\n",
      "60000/60000 [==============================] - 2s 36us/step - loss: 0.4083 - acc: 0.8087\n",
      "Epoch 40/50\n",
      "60000/60000 [==============================] - 2s 34us/step - loss: 0.4084 - acc: 0.8094\n",
      "Epoch 41/50\n",
      "60000/60000 [==============================] - 2s 35us/step - loss: 0.4083 - acc: 0.8095\n",
      "Epoch 42/50\n",
      "60000/60000 [==============================] - 2s 35us/step - loss: 0.4079 - acc: 0.8091\n",
      "Epoch 43/50\n",
      "60000/60000 [==============================] - 2s 34us/step - loss: 0.4081 - acc: 0.8090\n",
      "Epoch 44/50\n",
      "60000/60000 [==============================] - 2s 35us/step - loss: 0.4080 - acc: 0.8092\n",
      "Epoch 45/50\n",
      "60000/60000 [==============================] - 2s 34us/step - loss: 0.4079 - acc: 0.8089\n",
      "Epoch 46/50\n",
      "60000/60000 [==============================] - 2s 32us/step - loss: 0.4077 - acc: 0.8092\n",
      "Epoch 47/50\n",
      "60000/60000 [==============================] - 3s 43us/step - loss: 0.4079 - acc: 0.8086\n",
      "Epoch 48/50\n",
      "60000/60000 [==============================] - 2s 41us/step - loss: 0.4075 - acc: 0.8093\n",
      "Epoch 49/50\n",
      "60000/60000 [==============================] - 2s 33us/step - loss: 0.4074 - acc: 0.8096\n",
      "Epoch 50/50\n",
      "60000/60000 [==============================] - 2s 33us/step - loss: 0.4075 - acc: 0.8091\n"
     ]
    },
    {
     "data": {
      "text/plain": [
       "<keras.callbacks.History at 0x7f4c43643390>"
      ]
     },
     "execution_count": 28,
     "metadata": {},
     "output_type": "execute_result"
    }
   ],
   "source": [
    "classifier.fit(X_train, y_train, nb_epoch=50)"
   ]
  },
  {
   "cell_type": "code",
   "execution_count": 29,
   "metadata": {},
   "outputs": [],
   "source": [
    "y_pred_test = classifier.predict(X_test)"
   ]
  },
  {
   "cell_type": "code",
   "execution_count": 30,
   "metadata": {
    "collapsed": true
   },
   "outputs": [
    {
     "data": {
      "text/html": [
       "<div>\n",
       "<style scoped>\n",
       "    .dataframe tbody tr th:only-of-type {\n",
       "        vertical-align: middle;\n",
       "    }\n",
       "\n",
       "    .dataframe tbody tr th {\n",
       "        vertical-align: top;\n",
       "    }\n",
       "\n",
       "    .dataframe thead th {\n",
       "        text-align: right;\n",
       "    }\n",
       "</style>\n",
       "<table border=\"1\" class=\"dataframe\">\n",
       "  <thead>\n",
       "    <tr style=\"text-align: right;\">\n",
       "      <th></th>\n",
       "      <th>0</th>\n",
       "    </tr>\n",
       "  </thead>\n",
       "  <tbody>\n",
       "    <tr>\n",
       "      <th>count</th>\n",
       "      <td>2.000000e+04</td>\n",
       "    </tr>\n",
       "    <tr>\n",
       "      <th>mean</th>\n",
       "      <td>2.409990e-01</td>\n",
       "    </tr>\n",
       "    <tr>\n",
       "      <th>std</th>\n",
       "      <td>2.313173e-01</td>\n",
       "    </tr>\n",
       "    <tr>\n",
       "      <th>min</th>\n",
       "      <td>4.205932e-13</td>\n",
       "    </tr>\n",
       "    <tr>\n",
       "      <th>25%</th>\n",
       "      <td>4.589199e-02</td>\n",
       "    </tr>\n",
       "    <tr>\n",
       "      <th>50%</th>\n",
       "      <td>1.656633e-01</td>\n",
       "    </tr>\n",
       "    <tr>\n",
       "      <th>75%</th>\n",
       "      <td>3.784436e-01</td>\n",
       "    </tr>\n",
       "    <tr>\n",
       "      <th>max</th>\n",
       "      <td>8.357456e-01</td>\n",
       "    </tr>\n",
       "  </tbody>\n",
       "</table>\n",
       "</div>"
      ],
      "text/plain": [
       "                  0\n",
       "count  2.000000e+04\n",
       "mean   2.409990e-01\n",
       "std    2.313173e-01\n",
       "min    4.205932e-13\n",
       "25%    4.589199e-02\n",
       "50%    1.656633e-01\n",
       "75%    3.784436e-01\n",
       "max    8.357456e-01"
      ]
     },
     "execution_count": 30,
     "metadata": {},
     "output_type": "execute_result"
    }
   ],
   "source": [
    "pd.DataFrame(y_pred_test).describe()"
   ]
  },
  {
   "cell_type": "code",
   "execution_count": 31,
   "metadata": {},
   "outputs": [
    {
     "data": {
      "text/plain": [
       "<matplotlib.axes._subplots.AxesSubplot at 0x7f4c406a57b8>"
      ]
     },
     "execution_count": 31,
     "metadata": {},
     "output_type": "execute_result"
    },
    {
     "data": {
      "image/png": "[encoded data removed]",
      "text/plain": [
       "<Figure size 432x288 with 1 Axes>"
      ]
     },
     "metadata": {
      "needs_background": "light"
     },
     "output_type": "display_data"
    }
   ],
   "source": [
    "sns.boxplot(y_pred_test)"
   ]
  },
  {
   "cell_type": "code",
   "execution_count": 32,
   "metadata": {},
   "outputs": [],
   "source": [
    "y_pred_test_copy = y_pred_test\n",
    "j = 0\n",
    "for i in y_pred_test_copy:\n",
    "    if i > 0.5:\n",
    "        y_pred_test_copy[j] = 1\n",
    "    else:\n",
    "        y_pred_test_copy[j] = 0\n",
    "    j = j+1"
   ]
  },
  {
   "cell_type": "code",
   "execution_count": 33,
   "metadata": {},
   "outputs": [
    {
     "data": {
      "text/plain": [
       "0.19335"
      ]
     },
     "execution_count": 33,
     "metadata": {},
     "output_type": "execute_result"
    }
   ],
   "source": [
    "from sklearn.metrics import mean_squared_error\n",
    "mean_squared_error(y_test, y_pred_test)"
   ]
  },
  {
   "cell_type": "markdown",
   "metadata": {},
   "source": [
    "<h3> Okay so here I am going to train RandomFores Classifier for reducing Overfitting </h3>"
   ]
  },
  {
   "cell_type": "code",
   "execution_count": 76,
   "metadata": {},
   "outputs": [
    {
     "name": "stdout",
     "output_type": "stream",
     "text": [
      "0.20765\n",
      "0.20245\n",
      "0.20035\n",
      "0.1983\n",
      "0.19515\n"
     ]
    }
   ],
   "source": [
    "from sklearn.ensemble import RandomForestClassifier\n",
    "from sklearn.metrics import mean_squared_error\n",
    "for i in np.arange(0, 5):\n",
    "    classifier = RandomForestClassifier(n_estimators=100,criterion='entropy',max_depth = (5+i),random_state=0)\n",
    "    \n",
    "    classifier.fit(X_train, y_train)\n",
    "    y_pred_test = classifier.predict(X_test)\n",
    "    j = 0\n",
    "    for i in y_pred_test:\n",
    "        if i > 0.5:\n",
    "            y_pred_test[j] = 1\n",
    "        else:\n",
    "            y_pred_test[j] = 0\n",
    "        j = j + 1\n",
    "    \n",
    "    print(mean_squared_error(y_test, y_pred_test))"
   ]
  },
  {
   "cell_type": "code",
   "execution_count": 30,
   "metadata": {},
   "outputs": [
    {
     "name": "stdout",
     "output_type": "stream",
     "text": [
      "0.19225\n"
     ]
    }
   ],
   "source": [
    "#So here I have basically just used n_estimators=100, criterion='entropy', max_depth=12\n",
    "print(mean_squared_error(y_test, y_pred_test))"
   ]
  },
  {
   "cell_type": "code",
   "execution_count": 77,
   "metadata": {},
   "outputs": [
    {
     "data": {
      "text/plain": [
       "RandomForestClassifier(bootstrap=True, class_weight=None, criterion='entropy',\n",
       "            max_depth=6, max_features='auto', max_leaf_nodes=None,\n",
       "            min_impurity_decrease=0.0, min_impurity_split=None,\n",
       "            min_samples_leaf=1, min_samples_split=2,\n",
       "            min_weight_fraction_leaf=0.0, n_estimators=100, n_jobs=1,\n",
       "            oob_score=False, random_state=0, verbose=0, warm_start=False)"
      ]
     },
     "execution_count": 77,
     "metadata": {},
     "output_type": "execute_result"
    }
   ],
   "source": [
    "classifier = RandomForestClassifier(n_estimators=100,criterion='entropy',max_depth = (6),random_state=0)\n",
    "    \n",
    "classifier.fit(X_train, y_train)"
   ]
  },
  {
   "cell_type": "code",
   "execution_count": 81,
   "metadata": {},
   "outputs": [
    {
     "data": {
      "text/plain": [
       "array([2.01616577e-01, 4.99473998e-02, 4.22570130e-02, 1.52264881e-03,\n",
       "       1.98742122e-03, 1.10700997e-01, 4.65427200e-02, 9.50823367e-02,\n",
       "       4.68832719e-02, 8.80907929e-03, 1.86491585e-03, 6.33645788e-03,\n",
       "       1.26977119e-03, 1.76484504e-02, 1.33713991e-02, 4.15847574e-02,\n",
       "       1.75137893e-02, 3.27199909e-02, 6.50771027e-02, 7.45940969e-03,\n",
       "       1.21121724e-03, 7.55783911e-04, 2.62942230e-02, 9.57594996e-04,\n",
       "       5.44257949e-03, 5.23320582e-03, 5.73167182e-03, 1.40997558e-02,\n",
       "       6.85725580e-03, 2.36025853e-03, 9.28270184e-04, 6.25713304e-04,\n",
       "       4.75890354e-02, 3.68245052e-03, 1.77203896e-03, 6.85133659e-05,\n",
       "       1.18541039e-04, 6.60763816e-02])"
      ]
     },
     "execution_count": 81,
     "metadata": {},
     "output_type": "execute_result"
    }
   ],
   "source": [
    "classifier.feature_importances_"
   ]
  },
  {
   "cell_type": "markdown",
   "metadata": {},
   "source": [
    "**So we can clearly see that some of the features may be removed by seeing the importance of the features using Random Forest Classifier**"
   ]
  },
  {
   "cell_type": "code",
   "execution_count": 86,
   "metadata": {},
   "outputs": [
    {
     "data": {
      "text/plain": [
       "[]"
      ]
     },
     "execution_count": 86,
     "metadata": {},
     "output_type": "execute_result"
    },
    {
     "data": {
      "image/png": "[encoded data removed]",
      "text/plain": [
       "<Figure size 432x288 with 1 Axes>"
      ]
     },
     "metadata": {
      "needs_background": "light"
     },
     "output_type": "display_data"
    }
   ],
   "source": [
    "plt.plot(classifier.feature_importances_)\n",
    "plt.plot(np.arange(0, 38), np.zeros(38), '--')\n",
    "plt.plot()"
   ]
  },
  {
   "cell_type": "code",
   "execution_count": 49,
   "metadata": {},
   "outputs": [],
   "source": [
    "#Removing columns 3,22,31,32,35,36\n",
    "X_train = np.delete(X_train, [3,22,31,32,35,36], 1)\n",
    "X_leaderboard = np.delete(X_leaderboard, [3,22,31,32,35,36], 1)"
   ]
  },
  {
   "cell_type": "code",
   "execution_count": 50,
   "metadata": {},
   "outputs": [],
   "source": [
    "X_test = np.delete(X_test, [3,22,31,32,35,36], 1)"
   ]
  },
  {
   "cell_type": "code",
   "execution_count": 51,
   "metadata": {},
   "outputs": [
    {
     "data": {
      "text/plain": [
       "(60000, 32)"
      ]
     },
     "execution_count": 51,
     "metadata": {},
     "output_type": "execute_result"
    }
   ],
   "source": [
    "X_train.shape"
   ]
  },
  {
   "cell_type": "code",
   "execution_count": 52,
   "metadata": {},
   "outputs": [
    {
     "name": "stderr",
     "output_type": "stream",
     "text": [
      "/home/aniket/.conda/envs/fastai/lib/python3.6/site-packages/sklearn/ensemble/weight_boosting.py:29: DeprecationWarning: numpy.core.umath_tests is an internal NumPy module and should not be imported. It will be removed in a future NumPy release.\n",
      "  from numpy.core.umath_tests import inner1d\n"
     ]
    },
    {
     "data": {
      "text/plain": [
       "RandomForestRegressor(bootstrap=True, criterion='mse', max_depth=8,\n",
       "           max_features='auto', max_leaf_nodes=None,\n",
       "           min_impurity_decrease=0.0, min_impurity_split=None,\n",
       "           min_samples_leaf=1, min_samples_split=2,\n",
       "           min_weight_fraction_leaf=0.0, n_estimators=100, n_jobs=1,\n",
       "           oob_score=False, random_state=0, verbose=0, warm_start=False)"
      ]
     },
     "execution_count": 52,
     "metadata": {},
     "output_type": "execute_result"
    }
   ],
   "source": [
    "from sklearn.ensemble import RandomForestRegressor\n",
    "classifier = RandomForestRegressor(n_estimators=100, criterion='mse', max_depth=8, random_state=0)\n",
    "classifier.fit(X_train, y_train)"
   ]
  },
  {
   "cell_type": "code",
   "execution_count": 53,
   "metadata": {
    "scrolled": true
   },
   "outputs": [
    {
     "data": {
      "text/plain": [
       "0.1969"
      ]
     },
     "execution_count": 53,
     "metadata": {},
     "output_type": "execute_result"
    }
   ],
   "source": [
    "y_pred_test = classifier.predict(X_test)\n",
    "j = 0\n",
    "for i in y_pred_test:\n",
    "    if i > 0.5:\n",
    "        y_pred_test[j] = 1\n",
    "    else:\n",
    "        y_pred_test[j] = 0\n",
    "    j = j + 1\n",
    "\n",
    "mean_squared_error(y_test, y_pred_test)"
   ]
  },
  {
   "cell_type": "markdown",
   "metadata": {},
   "source": [
    "<h3>So I am going to use SVM here </h3>"
   ]
  },
  {
   "cell_type": "code",
   "execution_count": 36,
   "metadata": {},
   "outputs": [],
   "source": [
    "from sklearn.svm import SVR\n",
    "classifier = SVR(kernel = 'rbf')"
   ]
  },
  {
   "cell_type": "code",
   "execution_count": null,
   "metadata": {},
   "outputs": [],
   "source": [
    "classifier.fit(X_train, y_train)"
   ]
  },
  {
   "cell_type": "code",
   "execution_count": 31,
   "metadata": {},
   "outputs": [],
   "source": [
    "y_pred_test = classifier.predict(X_test)"
   ]
  },
  {
   "cell_type": "code",
   "execution_count": 33,
   "metadata": {},
   "outputs": [
    {
     "data": {
      "text/plain": [
       "array([0, 1, 0, ..., 0, 0, 0])"
      ]
     },
     "execution_count": 33,
     "metadata": {},
     "output_type": "execute_result"
    }
   ],
   "source": []
  },
  {
   "cell_type": "code",
   "execution_count": 32,
   "metadata": {},
   "outputs": [
    {
     "data": {
      "text/plain": [
       "0.1952"
      ]
     },
     "execution_count": 32,
     "metadata": {},
     "output_type": "execute_result"
    }
   ],
   "source": [
    "from sklearn.metrics import mean_squared_error\n",
    "mean_squared_error(y_test, y_pred_test)"
   ]
  },
  {
   "cell_type": "markdown",
   "metadata": {},
   "source": [
    "<h3> By using the data by the above feature importances I am again going to use Neural Net with same architecture as the first one</h3>"
   ]
  },
  {
   "cell_type": "code",
   "execution_count": 89,
   "metadata": {},
   "outputs": [
    {
     "name": "stderr",
     "output_type": "stream",
     "text": [
      "/home/aniket/.conda/envs/fastai/lib/python3.6/site-packages/ipykernel_launcher.py:2: UserWarning: Update your `Dense` call to the Keras 2 API: `Dense(activation=\"relu\", input_dim=32, units=18, kernel_initializer=\"uniform\")`\n",
      "  \n",
      "/home/aniket/.conda/envs/fastai/lib/python3.6/site-packages/ipykernel_launcher.py:3: UserWarning: Update your `Dense` call to the Keras 2 API: `Dense(activation=\"relu\", units=1, kernel_initializer=\"uniform\")`\n",
      "  This is separate from the ipykernel package so we can avoid doing imports until\n",
      "/home/aniket/.conda/envs/fastai/lib/python3.6/site-packages/ipykernel_launcher.py:4: UserWarning: Update your `Dense` call to the Keras 2 API: `Dense(activation=\"sigmoid\", units=1, kernel_initializer=\"uniform\")`\n",
      "  after removing the cwd from sys.path.\n"
     ]
    }
   ],
   "source": [
    "classifier = Sequential()\n",
    "classifier.add(Dense(output_dim = 18, activation='relu', init='uniform', input_dim=32))\n",
    "classifier.add(Dense(output_dim = 1, activation='relu', init='uniform'))\n",
    "classifier.add(Dense(output_dim = 1, activation='sigmoid', init='uniform'))\n",
    "classifier.compile(optimizer='adam', loss = 'binary_crossentropy', metrics=['accuracy'])"
   ]
  },
  {
   "cell_type": "code",
   "execution_count": 90,
   "metadata": {
    "collapsed": true
   },
   "outputs": [
    {
     "name": "stderr",
     "output_type": "stream",
     "text": [
      "/home/aniket/.conda/envs/fastai/lib/python3.6/site-packages/ipykernel_launcher.py:1: UserWarning: The `nb_epoch` argument in `fit` has been renamed `epochs`.\n",
      "  \"\"\"Entry point for launching an IPython kernel.\n"
     ]
    },
    {
     "name": "stdout",
     "output_type": "stream",
     "text": [
      "Epoch 1/50\n",
      "60000/60000 [==============================] - 2s 39us/step - loss: 0.4580 - acc: 0.7588\n",
      "Epoch 2/50\n",
      "60000/60000 [==============================] - 2s 38us/step - loss: 0.4303 - acc: 0.7974\n",
      "Epoch 3/50\n",
      "60000/60000 [==============================] - 2s 27us/step - loss: 0.4255 - acc: 0.7991\n",
      "Epoch 4/50\n",
      "60000/60000 [==============================] - 2s 28us/step - loss: 0.4228 - acc: 0.7997\n",
      "Epoch 5/50\n",
      "60000/60000 [==============================] - 2s 28us/step - loss: 0.4209 - acc: 0.8005\n",
      "Epoch 6/50\n",
      "60000/60000 [==============================] - 2s 28us/step - loss: 0.4195 - acc: 0.8011\n",
      "Epoch 7/50\n",
      "60000/60000 [==============================] - 2s 27us/step - loss: 0.4183 - acc: 0.8014\n",
      "Epoch 8/50\n",
      "60000/60000 [==============================] - 2s 27us/step - loss: 0.4175 - acc: 0.8031\n",
      "Epoch 9/50\n",
      "60000/60000 [==============================] - 2s 29us/step - loss: 0.4168 - acc: 0.8032\n",
      "Epoch 10/50\n",
      "60000/60000 [==============================] - 2s 28us/step - loss: 0.4163 - acc: 0.8035\n",
      "Epoch 11/50\n",
      "60000/60000 [==============================] - 2s 28us/step - loss: 0.4159 - acc: 0.8039\n",
      "Epoch 12/50\n",
      "60000/60000 [==============================] - 2s 28us/step - loss: 0.4154 - acc: 0.8040\n",
      "Epoch 13/50\n",
      "60000/60000 [==============================] - 2s 29us/step - loss: 0.4150 - acc: 0.8040\n",
      "Epoch 14/50\n",
      "60000/60000 [==============================] - 2s 29us/step - loss: 0.4146 - acc: 0.8044\n",
      "Epoch 15/50\n",
      "60000/60000 [==============================] - 2s 29us/step - loss: 0.4144 - acc: 0.8047\n",
      "Epoch 16/50\n",
      "60000/60000 [==============================] - 2s 28us/step - loss: 0.4139 - acc: 0.8050\n",
      "Epoch 17/50\n",
      "60000/60000 [==============================] - 2s 28us/step - loss: 0.4136 - acc: 0.8056\n",
      "Epoch 18/50\n",
      "60000/60000 [==============================] - 2s 28us/step - loss: 0.4134 - acc: 0.8056\n",
      "Epoch 19/50\n",
      "60000/60000 [==============================] - 2s 28us/step - loss: 0.4131 - acc: 0.8064\n",
      "Epoch 20/50\n",
      "60000/60000 [==============================] - 2s 29us/step - loss: 0.4131 - acc: 0.8055\n",
      "Epoch 21/50\n",
      "60000/60000 [==============================] - 2s 29us/step - loss: 0.4127 - acc: 0.8052\n",
      "Epoch 22/50\n",
      "60000/60000 [==============================] - 2s 29us/step - loss: 0.4125 - acc: 0.8053\n",
      "Epoch 23/50\n",
      "60000/60000 [==============================] - 3s 45us/step - loss: 0.4122 - acc: 0.8064\n",
      "Epoch 24/50\n",
      "60000/60000 [==============================] - 2s 29us/step - loss: 0.4122 - acc: 0.8060\n",
      "Epoch 25/50\n",
      "60000/60000 [==============================] - 2s 28us/step - loss: 0.4120 - acc: 0.8057\n",
      "Epoch 26/50\n",
      "60000/60000 [==============================] - 2s 38us/step - loss: 0.4119 - acc: 0.8055\n",
      "Epoch 27/50\n",
      "60000/60000 [==============================] - 2s 34us/step - loss: 0.4117 - acc: 0.8060\n",
      "Epoch 28/50\n",
      "60000/60000 [==============================] - 2s 28us/step - loss: 0.4116 - acc: 0.8064\n",
      "Epoch 29/50\n",
      "60000/60000 [==============================] - 2s 28us/step - loss: 0.4115 - acc: 0.8073\n",
      "Epoch 30/50\n",
      "60000/60000 [==============================] - 2s 29us/step - loss: 0.4114 - acc: 0.8059\n",
      "Epoch 31/50\n",
      "60000/60000 [==============================] - 2s 32us/step - loss: 0.4110 - acc: 0.8064\n",
      "Epoch 32/50\n",
      "60000/60000 [==============================] - 2s 30us/step - loss: 0.4112 - acc: 0.8068\n",
      "Epoch 33/50\n",
      "60000/60000 [==============================] - 2s 30us/step - loss: 0.4109 - acc: 0.8070\n",
      "Epoch 34/50\n",
      "60000/60000 [==============================] - 2s 30us/step - loss: 0.4108 - acc: 0.8068\n",
      "Epoch 35/50\n",
      "60000/60000 [==============================] - 2s 31us/step - loss: 0.4108 - acc: 0.8074\n",
      "Epoch 36/50\n",
      "60000/60000 [==============================] - 2s 32us/step - loss: 0.4109 - acc: 0.8062\n",
      "Epoch 37/50\n",
      "60000/60000 [==============================] - 2s 29us/step - loss: 0.4107 - acc: 0.8076\n",
      "Epoch 38/50\n",
      "60000/60000 [==============================] - 2s 31us/step - loss: 0.4106 - acc: 0.8063\n",
      "Epoch 39/50\n",
      "60000/60000 [==============================] - 2s 32us/step - loss: 0.4105 - acc: 0.8070\n",
      "Epoch 40/50\n",
      "60000/60000 [==============================] - 2s 33us/step - loss: 0.4107 - acc: 0.8067\n",
      "Epoch 41/50\n",
      "60000/60000 [==============================] - 2s 30us/step - loss: 0.4104 - acc: 0.8074\n",
      "Epoch 42/50\n",
      "60000/60000 [==============================] - 2s 31us/step - loss: 0.4105 - acc: 0.8075\n",
      "Epoch 43/50\n",
      "60000/60000 [==============================] - 2s 32us/step - loss: 0.4103 - acc: 0.8065\n",
      "Epoch 44/50\n",
      "60000/60000 [==============================] - 2s 31us/step - loss: 0.4101 - acc: 0.8076\n",
      "Epoch 45/50\n",
      "60000/60000 [==============================] - 2s 30us/step - loss: 0.4103 - acc: 0.8079\n",
      "Epoch 46/50\n",
      "60000/60000 [==============================] - 2s 29us/step - loss: 0.4102 - acc: 0.8071\n",
      "Epoch 47/50\n",
      "60000/60000 [==============================] - 2s 31us/step - loss: 0.4102 - acc: 0.8070\n",
      "Epoch 48/50\n",
      "60000/60000 [==============================] - 2s 31us/step - loss: 0.4101 - acc: 0.8072\n",
      "Epoch 49/50\n",
      "60000/60000 [==============================] - 2s 31us/step - loss: 0.4100 - acc: 0.8074\n",
      "Epoch 50/50\n",
      "60000/60000 [==============================] - 2s 31us/step - loss: 0.4099 - acc: 0.8073\n"
     ]
    },
    {
     "data": {
      "text/plain": [
       "<keras.callbacks.History at 0x7fd08a670710>"
      ]
     },
     "execution_count": 90,
     "metadata": {},
     "output_type": "execute_result"
    }
   ],
   "source": [
    "classifier.fit(X_train, y_train, nb_epoch = 50)"
   ]
  },
  {
   "cell_type": "code",
   "execution_count": null,
   "metadata": {},
   "outputs": [],
   "source": []
  },
  {
   "cell_type": "markdown",
   "metadata": {},
   "source": [
    "<h3> Now I am going to start working on the leaderboard dataset </h3>"
   ]
  },
  {
   "cell_type": "code",
   "execution_count": 54,
   "metadata": {},
   "outputs": [],
   "source": [
    "y_pred_leaderboard = classifier.predict(X_leaderboard)"
   ]
  },
  {
   "cell_type": "code",
   "execution_count": 55,
   "metadata": {},
   "outputs": [
    {
     "data": {
      "text/plain": [
       "(25000, 1)"
      ]
     },
     "execution_count": 55,
     "metadata": {},
     "output_type": "execute_result"
    }
   ],
   "source": [
    "y_pred_leaderboard = y_pred_leaderboard.reshape(y_pred_leaderboard.shape[0], 1)\n",
    "y_pred_leaderboard.shape"
   ]
  },
  {
   "cell_type": "code",
   "execution_count": 56,
   "metadata": {},
   "outputs": [
    {
     "name": "stderr",
     "output_type": "stream",
     "text": [
      "/home/aniket/.conda/envs/fastai/lib/python3.6/site-packages/IPython/core/interactiveshell.py:2785: DtypeWarning: Columns (19) have mixed types. Specify dtype option on import or set low_memory=False.\n",
      "  interactivity=interactivity, compiler=compiler, result=result)\n"
     ]
    }
   ],
   "source": [
    "lead = pd.read_csv('Leaderboard_dataset.csv')\n",
    "final_array = lead.iloc[:, 0].values"
   ]
  },
  {
   "cell_type": "code",
   "execution_count": 57,
   "metadata": {},
   "outputs": [],
   "source": [
    "final_array = final_array.reshape(final_array.shape[0], 1)"
   ]
  },
  {
   "cell_type": "code",
   "execution_count": 58,
   "metadata": {},
   "outputs": [
    {
     "data": {
      "text/plain": [
       "(25000, 1)"
      ]
     },
     "execution_count": 58,
     "metadata": {},
     "output_type": "execute_result"
    }
   ],
   "source": [
    "final_array.shape"
   ]
  },
  {
   "cell_type": "code",
   "execution_count": 59,
   "metadata": {},
   "outputs": [],
   "source": [
    "final_array = np.append(final_array, y_pred_leaderboard, axis=1)"
   ]
  },
  {
   "cell_type": "code",
   "execution_count": 60,
   "metadata": {},
   "outputs": [],
   "source": [
    "df = pd.DataFrame(final_array)"
   ]
  },
  {
   "cell_type": "code",
   "execution_count": 61,
   "metadata": {
    "collapsed": true
   },
   "outputs": [
    {
     "data": {
      "text/html": [
       "<div>\n",
       "<style scoped>\n",
       "    .dataframe tbody tr th:only-of-type {\n",
       "        vertical-align: middle;\n",
       "    }\n",
       "\n",
       "    .dataframe tbody tr th {\n",
       "        vertical-align: top;\n",
       "    }\n",
       "\n",
       "    .dataframe thead th {\n",
       "        text-align: right;\n",
       "    }\n",
       "</style>\n",
       "<table border=\"1\" class=\"dataframe\">\n",
       "  <thead>\n",
       "    <tr style=\"text-align: right;\">\n",
       "      <th></th>\n",
       "      <th>0</th>\n",
       "      <th>1</th>\n",
       "    </tr>\n",
       "  </thead>\n",
       "  <tbody>\n",
       "    <tr>\n",
       "      <th>0</th>\n",
       "      <td>350053.0</td>\n",
       "      <td>0.065236</td>\n",
       "    </tr>\n",
       "    <tr>\n",
       "      <th>1</th>\n",
       "      <td>350054.0</td>\n",
       "      <td>0.058022</td>\n",
       "    </tr>\n",
       "    <tr>\n",
       "      <th>2</th>\n",
       "      <td>350055.0</td>\n",
       "      <td>0.159734</td>\n",
       "    </tr>\n",
       "    <tr>\n",
       "      <th>3</th>\n",
       "      <td>350056.0</td>\n",
       "      <td>0.654853</td>\n",
       "    </tr>\n",
       "    <tr>\n",
       "      <th>4</th>\n",
       "      <td>350057.0</td>\n",
       "      <td>0.132812</td>\n",
       "    </tr>\n",
       "    <tr>\n",
       "      <th>5</th>\n",
       "      <td>350058.0</td>\n",
       "      <td>0.012363</td>\n",
       "    </tr>\n",
       "    <tr>\n",
       "      <th>6</th>\n",
       "      <td>350059.0</td>\n",
       "      <td>0.097162</td>\n",
       "    </tr>\n",
       "    <tr>\n",
       "      <th>7</th>\n",
       "      <td>350060.0</td>\n",
       "      <td>0.012063</td>\n",
       "    </tr>\n",
       "    <tr>\n",
       "      <th>8</th>\n",
       "      <td>350061.0</td>\n",
       "      <td>0.009365</td>\n",
       "    </tr>\n",
       "    <tr>\n",
       "      <th>9</th>\n",
       "      <td>350062.0</td>\n",
       "      <td>0.339674</td>\n",
       "    </tr>\n",
       "    <tr>\n",
       "      <th>10</th>\n",
       "      <td>350063.0</td>\n",
       "      <td>0.144906</td>\n",
       "    </tr>\n",
       "    <tr>\n",
       "      <th>11</th>\n",
       "      <td>350064.0</td>\n",
       "      <td>0.250041</td>\n",
       "    </tr>\n",
       "    <tr>\n",
       "      <th>12</th>\n",
       "      <td>350065.0</td>\n",
       "      <td>0.471402</td>\n",
       "    </tr>\n",
       "    <tr>\n",
       "      <th>13</th>\n",
       "      <td>350066.0</td>\n",
       "      <td>0.784542</td>\n",
       "    </tr>\n",
       "    <tr>\n",
       "      <th>14</th>\n",
       "      <td>350067.0</td>\n",
       "      <td>0.338226</td>\n",
       "    </tr>\n",
       "    <tr>\n",
       "      <th>15</th>\n",
       "      <td>350068.0</td>\n",
       "      <td>0.502800</td>\n",
       "    </tr>\n",
       "    <tr>\n",
       "      <th>16</th>\n",
       "      <td>350069.0</td>\n",
       "      <td>0.039888</td>\n",
       "    </tr>\n",
       "    <tr>\n",
       "      <th>17</th>\n",
       "      <td>350070.0</td>\n",
       "      <td>0.061021</td>\n",
       "    </tr>\n",
       "    <tr>\n",
       "      <th>18</th>\n",
       "      <td>350071.0</td>\n",
       "      <td>0.131786</td>\n",
       "    </tr>\n",
       "    <tr>\n",
       "      <th>19</th>\n",
       "      <td>350072.0</td>\n",
       "      <td>0.163072</td>\n",
       "    </tr>\n",
       "    <tr>\n",
       "      <th>20</th>\n",
       "      <td>350073.0</td>\n",
       "      <td>0.217709</td>\n",
       "    </tr>\n",
       "    <tr>\n",
       "      <th>21</th>\n",
       "      <td>350074.0</td>\n",
       "      <td>0.489496</td>\n",
       "    </tr>\n",
       "    <tr>\n",
       "      <th>22</th>\n",
       "      <td>350075.0</td>\n",
       "      <td>0.011277</td>\n",
       "    </tr>\n",
       "    <tr>\n",
       "      <th>23</th>\n",
       "      <td>350076.0</td>\n",
       "      <td>0.321778</td>\n",
       "    </tr>\n",
       "    <tr>\n",
       "      <th>24</th>\n",
       "      <td>350077.0</td>\n",
       "      <td>0.356061</td>\n",
       "    </tr>\n",
       "    <tr>\n",
       "      <th>25</th>\n",
       "      <td>350078.0</td>\n",
       "      <td>0.009035</td>\n",
       "    </tr>\n",
       "    <tr>\n",
       "      <th>26</th>\n",
       "      <td>350079.0</td>\n",
       "      <td>0.116164</td>\n",
       "    </tr>\n",
       "    <tr>\n",
       "      <th>27</th>\n",
       "      <td>350080.0</td>\n",
       "      <td>0.066829</td>\n",
       "    </tr>\n",
       "    <tr>\n",
       "      <th>28</th>\n",
       "      <td>350081.0</td>\n",
       "      <td>0.666574</td>\n",
       "    </tr>\n",
       "    <tr>\n",
       "      <th>29</th>\n",
       "      <td>350082.0</td>\n",
       "      <td>0.089620</td>\n",
       "    </tr>\n",
       "    <tr>\n",
       "      <th>...</th>\n",
       "      <td>...</td>\n",
       "      <td>...</td>\n",
       "    </tr>\n",
       "    <tr>\n",
       "      <th>24970</th>\n",
       "      <td>375023.0</td>\n",
       "      <td>0.172790</td>\n",
       "    </tr>\n",
       "    <tr>\n",
       "      <th>24971</th>\n",
       "      <td>375024.0</td>\n",
       "      <td>0.043750</td>\n",
       "    </tr>\n",
       "    <tr>\n",
       "      <th>24972</th>\n",
       "      <td>375025.0</td>\n",
       "      <td>0.437916</td>\n",
       "    </tr>\n",
       "    <tr>\n",
       "      <th>24973</th>\n",
       "      <td>375026.0</td>\n",
       "      <td>0.496829</td>\n",
       "    </tr>\n",
       "    <tr>\n",
       "      <th>24974</th>\n",
       "      <td>375027.0</td>\n",
       "      <td>0.419202</td>\n",
       "    </tr>\n",
       "    <tr>\n",
       "      <th>24975</th>\n",
       "      <td>375028.0</td>\n",
       "      <td>0.011908</td>\n",
       "    </tr>\n",
       "    <tr>\n",
       "      <th>24976</th>\n",
       "      <td>375029.0</td>\n",
       "      <td>0.220446</td>\n",
       "    </tr>\n",
       "    <tr>\n",
       "      <th>24977</th>\n",
       "      <td>375030.0</td>\n",
       "      <td>0.070241</td>\n",
       "    </tr>\n",
       "    <tr>\n",
       "      <th>24978</th>\n",
       "      <td>375031.0</td>\n",
       "      <td>0.358516</td>\n",
       "    </tr>\n",
       "    <tr>\n",
       "      <th>24979</th>\n",
       "      <td>375032.0</td>\n",
       "      <td>0.593351</td>\n",
       "    </tr>\n",
       "    <tr>\n",
       "      <th>24980</th>\n",
       "      <td>375033.0</td>\n",
       "      <td>0.029367</td>\n",
       "    </tr>\n",
       "    <tr>\n",
       "      <th>24981</th>\n",
       "      <td>375034.0</td>\n",
       "      <td>0.206203</td>\n",
       "    </tr>\n",
       "    <tr>\n",
       "      <th>24982</th>\n",
       "      <td>375035.0</td>\n",
       "      <td>0.787296</td>\n",
       "    </tr>\n",
       "    <tr>\n",
       "      <th>24983</th>\n",
       "      <td>375036.0</td>\n",
       "      <td>0.394775</td>\n",
       "    </tr>\n",
       "    <tr>\n",
       "      <th>24984</th>\n",
       "      <td>375037.0</td>\n",
       "      <td>0.020887</td>\n",
       "    </tr>\n",
       "    <tr>\n",
       "      <th>24985</th>\n",
       "      <td>375038.0</td>\n",
       "      <td>0.312770</td>\n",
       "    </tr>\n",
       "    <tr>\n",
       "      <th>24986</th>\n",
       "      <td>375039.0</td>\n",
       "      <td>0.196606</td>\n",
       "    </tr>\n",
       "    <tr>\n",
       "      <th>24987</th>\n",
       "      <td>375040.0</td>\n",
       "      <td>0.281752</td>\n",
       "    </tr>\n",
       "    <tr>\n",
       "      <th>24988</th>\n",
       "      <td>375041.0</td>\n",
       "      <td>0.441487</td>\n",
       "    </tr>\n",
       "    <tr>\n",
       "      <th>24989</th>\n",
       "      <td>375042.0</td>\n",
       "      <td>0.723774</td>\n",
       "    </tr>\n",
       "    <tr>\n",
       "      <th>24990</th>\n",
       "      <td>375043.0</td>\n",
       "      <td>0.347583</td>\n",
       "    </tr>\n",
       "    <tr>\n",
       "      <th>24991</th>\n",
       "      <td>375044.0</td>\n",
       "      <td>0.069510</td>\n",
       "    </tr>\n",
       "    <tr>\n",
       "      <th>24992</th>\n",
       "      <td>375045.0</td>\n",
       "      <td>0.353225</td>\n",
       "    </tr>\n",
       "    <tr>\n",
       "      <th>24993</th>\n",
       "      <td>375046.0</td>\n",
       "      <td>0.370972</td>\n",
       "    </tr>\n",
       "    <tr>\n",
       "      <th>24994</th>\n",
       "      <td>375047.0</td>\n",
       "      <td>0.356811</td>\n",
       "    </tr>\n",
       "    <tr>\n",
       "      <th>24995</th>\n",
       "      <td>375048.0</td>\n",
       "      <td>0.477768</td>\n",
       "    </tr>\n",
       "    <tr>\n",
       "      <th>24996</th>\n",
       "      <td>375049.0</td>\n",
       "      <td>0.040893</td>\n",
       "    </tr>\n",
       "    <tr>\n",
       "      <th>24997</th>\n",
       "      <td>375050.0</td>\n",
       "      <td>0.102968</td>\n",
       "    </tr>\n",
       "    <tr>\n",
       "      <th>24998</th>\n",
       "      <td>375051.0</td>\n",
       "      <td>0.033154</td>\n",
       "    </tr>\n",
       "    <tr>\n",
       "      <th>24999</th>\n",
       "      <td>375052.0</td>\n",
       "      <td>0.012475</td>\n",
       "    </tr>\n",
       "  </tbody>\n",
       "</table>\n",
       "<p>25000 rows × 2 columns</p>\n",
       "</div>"
      ],
      "text/plain": [
       "              0         1\n",
       "0      350053.0  0.065236\n",
       "1      350054.0  0.058022\n",
       "2      350055.0  0.159734\n",
       "3      350056.0  0.654853\n",
       "4      350057.0  0.132812\n",
       "5      350058.0  0.012363\n",
       "6      350059.0  0.097162\n",
       "7      350060.0  0.012063\n",
       "8      350061.0  0.009365\n",
       "9      350062.0  0.339674\n",
       "10     350063.0  0.144906\n",
       "11     350064.0  0.250041\n",
       "12     350065.0  0.471402\n",
       "13     350066.0  0.784542\n",
       "14     350067.0  0.338226\n",
       "15     350068.0  0.502800\n",
       "16     350069.0  0.039888\n",
       "17     350070.0  0.061021\n",
       "18     350071.0  0.131786\n",
       "19     350072.0  0.163072\n",
       "20     350073.0  0.217709\n",
       "21     350074.0  0.489496\n",
       "22     350075.0  0.011277\n",
       "23     350076.0  0.321778\n",
       "24     350077.0  0.356061\n",
       "25     350078.0  0.009035\n",
       "26     350079.0  0.116164\n",
       "27     350080.0  0.066829\n",
       "28     350081.0  0.666574\n",
       "29     350082.0  0.089620\n",
       "...         ...       ...\n",
       "24970  375023.0  0.172790\n",
       "24971  375024.0  0.043750\n",
       "24972  375025.0  0.437916\n",
       "24973  375026.0  0.496829\n",
       "24974  375027.0  0.419202\n",
       "24975  375028.0  0.011908\n",
       "24976  375029.0  0.220446\n",
       "24977  375030.0  0.070241\n",
       "24978  375031.0  0.358516\n",
       "24979  375032.0  0.593351\n",
       "24980  375033.0  0.029367\n",
       "24981  375034.0  0.206203\n",
       "24982  375035.0  0.787296\n",
       "24983  375036.0  0.394775\n",
       "24984  375037.0  0.020887\n",
       "24985  375038.0  0.312770\n",
       "24986  375039.0  0.196606\n",
       "24987  375040.0  0.281752\n",
       "24988  375041.0  0.441487\n",
       "24989  375042.0  0.723774\n",
       "24990  375043.0  0.347583\n",
       "24991  375044.0  0.069510\n",
       "24992  375045.0  0.353225\n",
       "24993  375046.0  0.370972\n",
       "24994  375047.0  0.356811\n",
       "24995  375048.0  0.477768\n",
       "24996  375049.0  0.040893\n",
       "24997  375050.0  0.102968\n",
       "24998  375051.0  0.033154\n",
       "24999  375052.0  0.012475\n",
       "\n",
       "[25000 rows x 2 columns]"
      ]
     },
     "execution_count": 61,
     "metadata": {},
     "output_type": "execute_result"
    }
   ],
   "source": [
    "df"
   ]
  },
  {
   "cell_type": "code",
   "execution_count": 62,
   "metadata": {
    "scrolled": true
   },
   "outputs": [
    {
     "data": {
      "text/html": [
       "<div>\n",
       "<style scoped>\n",
       "    .dataframe tbody tr th:only-of-type {\n",
       "        vertical-align: middle;\n",
       "    }\n",
       "\n",
       "    .dataframe tbody tr th {\n",
       "        vertical-align: top;\n",
       "    }\n",
       "\n",
       "    .dataframe thead th {\n",
       "        text-align: right;\n",
       "    }\n",
       "</style>\n",
       "<table border=\"1\" class=\"dataframe\">\n",
       "  <thead>\n",
       "    <tr style=\"text-align: right;\">\n",
       "      <th></th>\n",
       "      <th>0</th>\n",
       "      <th>1</th>\n",
       "    </tr>\n",
       "  </thead>\n",
       "  <tbody>\n",
       "    <tr>\n",
       "      <th>count</th>\n",
       "      <td>25000.000000</td>\n",
       "      <td>25000.000000</td>\n",
       "    </tr>\n",
       "    <tr>\n",
       "      <th>mean</th>\n",
       "      <td>362552.500000</td>\n",
       "      <td>0.243924</td>\n",
       "    </tr>\n",
       "    <tr>\n",
       "      <th>std</th>\n",
       "      <td>7217.022701</td>\n",
       "      <td>0.208373</td>\n",
       "    </tr>\n",
       "    <tr>\n",
       "      <th>min</th>\n",
       "      <td>350053.000000</td>\n",
       "      <td>0.009035</td>\n",
       "    </tr>\n",
       "    <tr>\n",
       "      <th>25%</th>\n",
       "      <td>356302.750000</td>\n",
       "      <td>0.062834</td>\n",
       "    </tr>\n",
       "    <tr>\n",
       "      <th>50%</th>\n",
       "      <td>362552.500000</td>\n",
       "      <td>0.190689</td>\n",
       "    </tr>\n",
       "    <tr>\n",
       "      <th>75%</th>\n",
       "      <td>368802.250000</td>\n",
       "      <td>0.380262</td>\n",
       "    </tr>\n",
       "    <tr>\n",
       "      <th>max</th>\n",
       "      <td>375052.000000</td>\n",
       "      <td>0.902582</td>\n",
       "    </tr>\n",
       "  </tbody>\n",
       "</table>\n",
       "</div>"
      ],
      "text/plain": [
       "                   0             1\n",
       "count   25000.000000  25000.000000\n",
       "mean   362552.500000      0.243924\n",
       "std      7217.022701      0.208373\n",
       "min    350053.000000      0.009035\n",
       "25%    356302.750000      0.062834\n",
       "50%    362552.500000      0.190689\n",
       "75%    368802.250000      0.380262\n",
       "max    375052.000000      0.902582"
      ]
     },
     "execution_count": 62,
     "metadata": {},
     "output_type": "execute_result"
    }
   ],
   "source": [
    "df.describe()"
   ]
  },
  {
   "cell_type": "code",
   "execution_count": 63,
   "metadata": {},
   "outputs": [
    {
     "data": {
      "text/plain": [
       "<matplotlib.axes._subplots.AxesSubplot at 0x7f4c0cd80160>"
      ]
     },
     "execution_count": 63,
     "metadata": {},
     "output_type": "execute_result"
    },
    {
     "data": {
      "image/png": "[encoded data removed]",
      "text/plain": [
       "<Figure size 432x288 with 1 Axes>"
      ]
     },
     "metadata": {
      "needs_background": "light"
     },
     "output_type": "display_data"
    }
   ],
   "source": [
    "sns.boxplot(df[1])"
   ]
  },
  {
   "cell_type": "code",
   "execution_count": 64,
   "metadata": {},
   "outputs": [],
   "source": [
    "df2 = df.sort_values([1])"
   ]
  },
  {
   "cell_type": "code",
   "execution_count": 65,
   "metadata": {},
   "outputs": [],
   "source": [
    "j = 0\n",
    "for i in df2.iloc[:, 1]:\n",
    "    if i >0.4:\n",
    "        df2.iloc[j, 1] = 1\n",
    "    else:\n",
    "        df2.iloc[j, 1] = 0\n",
    "    j = j+1"
   ]
  },
  {
   "cell_type": "code",
   "execution_count": 66,
   "metadata": {
    "collapsed": true
   },
   "outputs": [
    {
     "data": {
      "text/html": [
       "<div>\n",
       "<style scoped>\n",
       "    .dataframe tbody tr th:only-of-type {\n",
       "        vertical-align: middle;\n",
       "    }\n",
       "\n",
       "    .dataframe tbody tr th {\n",
       "        vertical-align: top;\n",
       "    }\n",
       "\n",
       "    .dataframe thead th {\n",
       "        text-align: right;\n",
       "    }\n",
       "</style>\n",
       "<table border=\"1\" class=\"dataframe\">\n",
       "  <thead>\n",
       "    <tr style=\"text-align: right;\">\n",
       "      <th></th>\n",
       "      <th>0</th>\n",
       "      <th>1</th>\n",
       "    </tr>\n",
       "  </thead>\n",
       "  <tbody>\n",
       "    <tr>\n",
       "      <th>15405</th>\n",
       "      <td>365458.0</td>\n",
       "      <td>0.0</td>\n",
       "    </tr>\n",
       "    <tr>\n",
       "      <th>3048</th>\n",
       "      <td>353101.0</td>\n",
       "      <td>0.0</td>\n",
       "    </tr>\n",
       "    <tr>\n",
       "      <th>3047</th>\n",
       "      <td>353100.0</td>\n",
       "      <td>0.0</td>\n",
       "    </tr>\n",
       "    <tr>\n",
       "      <th>17197</th>\n",
       "      <td>367250.0</td>\n",
       "      <td>0.0</td>\n",
       "    </tr>\n",
       "    <tr>\n",
       "      <th>17220</th>\n",
       "      <td>367273.0</td>\n",
       "      <td>0.0</td>\n",
       "    </tr>\n",
       "    <tr>\n",
       "      <th>2086</th>\n",
       "      <td>352139.0</td>\n",
       "      <td>0.0</td>\n",
       "    </tr>\n",
       "    <tr>\n",
       "      <th>13249</th>\n",
       "      <td>363302.0</td>\n",
       "      <td>0.0</td>\n",
       "    </tr>\n",
       "    <tr>\n",
       "      <th>21623</th>\n",
       "      <td>371676.0</td>\n",
       "      <td>0.0</td>\n",
       "    </tr>\n",
       "    <tr>\n",
       "      <th>1303</th>\n",
       "      <td>351356.0</td>\n",
       "      <td>0.0</td>\n",
       "    </tr>\n",
       "    <tr>\n",
       "      <th>17229</th>\n",
       "      <td>367282.0</td>\n",
       "      <td>0.0</td>\n",
       "    </tr>\n",
       "    <tr>\n",
       "      <th>21592</th>\n",
       "      <td>371645.0</td>\n",
       "      <td>0.0</td>\n",
       "    </tr>\n",
       "    <tr>\n",
       "      <th>13208</th>\n",
       "      <td>363261.0</td>\n",
       "      <td>0.0</td>\n",
       "    </tr>\n",
       "    <tr>\n",
       "      <th>7823</th>\n",
       "      <td>357876.0</td>\n",
       "      <td>0.0</td>\n",
       "    </tr>\n",
       "    <tr>\n",
       "      <th>17267</th>\n",
       "      <td>367320.0</td>\n",
       "      <td>0.0</td>\n",
       "    </tr>\n",
       "    <tr>\n",
       "      <th>21575</th>\n",
       "      <td>371628.0</td>\n",
       "      <td>0.0</td>\n",
       "    </tr>\n",
       "    <tr>\n",
       "      <th>13202</th>\n",
       "      <td>363255.0</td>\n",
       "      <td>0.0</td>\n",
       "    </tr>\n",
       "    <tr>\n",
       "      <th>7848</th>\n",
       "      <td>357901.0</td>\n",
       "      <td>0.0</td>\n",
       "    </tr>\n",
       "    <tr>\n",
       "      <th>7693</th>\n",
       "      <td>357746.0</td>\n",
       "      <td>0.0</td>\n",
       "    </tr>\n",
       "    <tr>\n",
       "      <th>7885</th>\n",
       "      <td>357938.0</td>\n",
       "      <td>0.0</td>\n",
       "    </tr>\n",
       "    <tr>\n",
       "      <th>7516</th>\n",
       "      <td>357569.0</td>\n",
       "      <td>0.0</td>\n",
       "    </tr>\n",
       "    <tr>\n",
       "      <th>13282</th>\n",
       "      <td>363335.0</td>\n",
       "      <td>0.0</td>\n",
       "    </tr>\n",
       "    <tr>\n",
       "      <th>7222</th>\n",
       "      <td>357275.0</td>\n",
       "      <td>0.0</td>\n",
       "    </tr>\n",
       "    <tr>\n",
       "      <th>11077</th>\n",
       "      <td>361130.0</td>\n",
       "      <td>0.0</td>\n",
       "    </tr>\n",
       "    <tr>\n",
       "      <th>17084</th>\n",
       "      <td>367137.0</td>\n",
       "      <td>0.0</td>\n",
       "    </tr>\n",
       "    <tr>\n",
       "      <th>2046</th>\n",
       "      <td>352099.0</td>\n",
       "      <td>0.0</td>\n",
       "    </tr>\n",
       "    <tr>\n",
       "      <th>17108</th>\n",
       "      <td>367161.0</td>\n",
       "      <td>0.0</td>\n",
       "    </tr>\n",
       "    <tr>\n",
       "      <th>491</th>\n",
       "      <td>350544.0</td>\n",
       "      <td>0.0</td>\n",
       "    </tr>\n",
       "    <tr>\n",
       "      <th>21813</th>\n",
       "      <td>371866.0</td>\n",
       "      <td>0.0</td>\n",
       "    </tr>\n",
       "    <tr>\n",
       "      <th>13275</th>\n",
       "      <td>363328.0</td>\n",
       "      <td>0.0</td>\n",
       "    </tr>\n",
       "    <tr>\n",
       "      <th>7248</th>\n",
       "      <td>357301.0</td>\n",
       "      <td>0.0</td>\n",
       "    </tr>\n",
       "    <tr>\n",
       "      <th>...</th>\n",
       "      <td>...</td>\n",
       "      <td>...</td>\n",
       "    </tr>\n",
       "    <tr>\n",
       "      <th>19779</th>\n",
       "      <td>369832.0</td>\n",
       "      <td>1.0</td>\n",
       "    </tr>\n",
       "    <tr>\n",
       "      <th>18723</th>\n",
       "      <td>368776.0</td>\n",
       "      <td>1.0</td>\n",
       "    </tr>\n",
       "    <tr>\n",
       "      <th>9357</th>\n",
       "      <td>359410.0</td>\n",
       "      <td>1.0</td>\n",
       "    </tr>\n",
       "    <tr>\n",
       "      <th>16433</th>\n",
       "      <td>366486.0</td>\n",
       "      <td>1.0</td>\n",
       "    </tr>\n",
       "    <tr>\n",
       "      <th>18690</th>\n",
       "      <td>368743.0</td>\n",
       "      <td>1.0</td>\n",
       "    </tr>\n",
       "    <tr>\n",
       "      <th>14383</th>\n",
       "      <td>364436.0</td>\n",
       "      <td>1.0</td>\n",
       "    </tr>\n",
       "    <tr>\n",
       "      <th>16226</th>\n",
       "      <td>366279.0</td>\n",
       "      <td>1.0</td>\n",
       "    </tr>\n",
       "    <tr>\n",
       "      <th>22359</th>\n",
       "      <td>372412.0</td>\n",
       "      <td>1.0</td>\n",
       "    </tr>\n",
       "    <tr>\n",
       "      <th>8560</th>\n",
       "      <td>358613.0</td>\n",
       "      <td>1.0</td>\n",
       "    </tr>\n",
       "    <tr>\n",
       "      <th>698</th>\n",
       "      <td>350751.0</td>\n",
       "      <td>1.0</td>\n",
       "    </tr>\n",
       "    <tr>\n",
       "      <th>21388</th>\n",
       "      <td>371441.0</td>\n",
       "      <td>1.0</td>\n",
       "    </tr>\n",
       "    <tr>\n",
       "      <th>1353</th>\n",
       "      <td>351406.0</td>\n",
       "      <td>1.0</td>\n",
       "    </tr>\n",
       "    <tr>\n",
       "      <th>3719</th>\n",
       "      <td>353772.0</td>\n",
       "      <td>1.0</td>\n",
       "    </tr>\n",
       "    <tr>\n",
       "      <th>703</th>\n",
       "      <td>350756.0</td>\n",
       "      <td>1.0</td>\n",
       "    </tr>\n",
       "    <tr>\n",
       "      <th>24016</th>\n",
       "      <td>374069.0</td>\n",
       "      <td>1.0</td>\n",
       "    </tr>\n",
       "    <tr>\n",
       "      <th>10325</th>\n",
       "      <td>360378.0</td>\n",
       "      <td>1.0</td>\n",
       "    </tr>\n",
       "    <tr>\n",
       "      <th>18003</th>\n",
       "      <td>368056.0</td>\n",
       "      <td>1.0</td>\n",
       "    </tr>\n",
       "    <tr>\n",
       "      <th>16142</th>\n",
       "      <td>366195.0</td>\n",
       "      <td>1.0</td>\n",
       "    </tr>\n",
       "    <tr>\n",
       "      <th>22376</th>\n",
       "      <td>372429.0</td>\n",
       "      <td>1.0</td>\n",
       "    </tr>\n",
       "    <tr>\n",
       "      <th>20753</th>\n",
       "      <td>370806.0</td>\n",
       "      <td>1.0</td>\n",
       "    </tr>\n",
       "    <tr>\n",
       "      <th>3116</th>\n",
       "      <td>353169.0</td>\n",
       "      <td>1.0</td>\n",
       "    </tr>\n",
       "    <tr>\n",
       "      <th>3158</th>\n",
       "      <td>353211.0</td>\n",
       "      <td>1.0</td>\n",
       "    </tr>\n",
       "    <tr>\n",
       "      <th>18813</th>\n",
       "      <td>368866.0</td>\n",
       "      <td>1.0</td>\n",
       "    </tr>\n",
       "    <tr>\n",
       "      <th>13950</th>\n",
       "      <td>364003.0</td>\n",
       "      <td>1.0</td>\n",
       "    </tr>\n",
       "    <tr>\n",
       "      <th>14424</th>\n",
       "      <td>364477.0</td>\n",
       "      <td>1.0</td>\n",
       "    </tr>\n",
       "    <tr>\n",
       "      <th>15888</th>\n",
       "      <td>365941.0</td>\n",
       "      <td>1.0</td>\n",
       "    </tr>\n",
       "    <tr>\n",
       "      <th>17884</th>\n",
       "      <td>367937.0</td>\n",
       "      <td>1.0</td>\n",
       "    </tr>\n",
       "    <tr>\n",
       "      <th>18646</th>\n",
       "      <td>368699.0</td>\n",
       "      <td>1.0</td>\n",
       "    </tr>\n",
       "    <tr>\n",
       "      <th>22944</th>\n",
       "      <td>372997.0</td>\n",
       "      <td>1.0</td>\n",
       "    </tr>\n",
       "    <tr>\n",
       "      <th>23073</th>\n",
       "      <td>373126.0</td>\n",
       "      <td>1.0</td>\n",
       "    </tr>\n",
       "  </tbody>\n",
       "</table>\n",
       "<p>25000 rows × 2 columns</p>\n",
       "</div>"
      ],
      "text/plain": [
       "              0    1\n",
       "15405  365458.0  0.0\n",
       "3048   353101.0  0.0\n",
       "3047   353100.0  0.0\n",
       "17197  367250.0  0.0\n",
       "17220  367273.0  0.0\n",
       "2086   352139.0  0.0\n",
       "13249  363302.0  0.0\n",
       "21623  371676.0  0.0\n",
       "1303   351356.0  0.0\n",
       "17229  367282.0  0.0\n",
       "21592  371645.0  0.0\n",
       "13208  363261.0  0.0\n",
       "7823   357876.0  0.0\n",
       "17267  367320.0  0.0\n",
       "21575  371628.0  0.0\n",
       "13202  363255.0  0.0\n",
       "7848   357901.0  0.0\n",
       "7693   357746.0  0.0\n",
       "7885   357938.0  0.0\n",
       "7516   357569.0  0.0\n",
       "13282  363335.0  0.0\n",
       "7222   357275.0  0.0\n",
       "11077  361130.0  0.0\n",
       "17084  367137.0  0.0\n",
       "2046   352099.0  0.0\n",
       "17108  367161.0  0.0\n",
       "491    350544.0  0.0\n",
       "21813  371866.0  0.0\n",
       "13275  363328.0  0.0\n",
       "7248   357301.0  0.0\n",
       "...         ...  ...\n",
       "19779  369832.0  1.0\n",
       "18723  368776.0  1.0\n",
       "9357   359410.0  1.0\n",
       "16433  366486.0  1.0\n",
       "18690  368743.0  1.0\n",
       "14383  364436.0  1.0\n",
       "16226  366279.0  1.0\n",
       "22359  372412.0  1.0\n",
       "8560   358613.0  1.0\n",
       "698    350751.0  1.0\n",
       "21388  371441.0  1.0\n",
       "1353   351406.0  1.0\n",
       "3719   353772.0  1.0\n",
       "703    350756.0  1.0\n",
       "24016  374069.0  1.0\n",
       "10325  360378.0  1.0\n",
       "18003  368056.0  1.0\n",
       "16142  366195.0  1.0\n",
       "22376  372429.0  1.0\n",
       "20753  370806.0  1.0\n",
       "3116   353169.0  1.0\n",
       "3158   353211.0  1.0\n",
       "18813  368866.0  1.0\n",
       "13950  364003.0  1.0\n",
       "14424  364477.0  1.0\n",
       "15888  365941.0  1.0\n",
       "17884  367937.0  1.0\n",
       "18646  368699.0  1.0\n",
       "22944  372997.0  1.0\n",
       "23073  373126.0  1.0\n",
       "\n",
       "[25000 rows x 2 columns]"
      ]
     },
     "execution_count": 66,
     "metadata": {},
     "output_type": "execute_result"
    }
   ],
   "source": [
    "df2"
   ]
  },
  {
   "cell_type": "code",
   "execution_count": 67,
   "metadata": {},
   "outputs": [],
   "source": [
    "df2.to_csv('Be_Professional_IITRoorkee_33.csv', index = False)"
   ]
  },
  {
   "cell_type": "code",
   "execution_count": null,
   "metadata": {},
   "outputs": [],
   "source": []
  }
 ],
 "metadata": {
  "kernelspec": {
   "display_name": "fastAI custom",
   "language": "python",
   "name": "fastai"
  },
  "language_info": {
   "codemirror_mode": {
    "name": "ipython",
    "version": 3
   },
   "file_extension": ".py",
   "mimetype": "text/x-python",
   "name": "python",
   "nbconvert_exporter": "python",
   "pygments_lexer": "ipython3",
   "version": "3.6.6"
  }
 },
 "nbformat": 4,
 "nbformat_minor": 2
}
